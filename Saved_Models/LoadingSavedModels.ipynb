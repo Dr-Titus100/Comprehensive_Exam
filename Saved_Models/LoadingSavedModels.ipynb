{
 "cells": [
  {
   "cell_type": "markdown",
   "id": "c061c86c-ed31-4eee-9d3f-57717cad53e6",
   "metadata": {},
   "source": [
    "# Packages"
   ]
  },
  {
   "cell_type": "code",
   "execution_count": 1,
   "id": "85ff604c-b59b-42c0-b552-e15d7114a0b3",
   "metadata": {},
   "outputs": [
    {
     "name": "stderr",
     "output_type": "stream",
     "text": [
      "2022-09-24 14:44:05.522833: W tensorflow/stream_executor/platform/default/dso_loader.cc:64] Could not load dynamic library 'libcudart.so.11.0'; dlerror: libcudart.so.11.0: cannot open shared object file: No such file or directory; LD_LIBRARY_PATH: /cm/shared/apps/openmpi3/gcc/3.1.3/lib:/cm/shared/apps/nccl2-cuda10.2-gcc8/2.8.4/lib:/cm/shared/apps/cudnn7.6-cuda10.2/7.6.5.32/lib64:/cm/local/apps/cuda/libs/current/lib64:/cm/shared/apps/cuda10.2/toolkit/10.2.89/targets/x86_64-linux/lib:/cm/local/apps/python37/lib:/cm/shared/apps/gcc8/8.4.0/lib:/cm/shared/apps/gcc8/8.4.0/lib32:/cm/shared/apps/gcc8/8.4.0/lib64:/cm/shared/apps/hdf5_18/1.8.18-mpi/lib:/cm/shared/apps/openblas/0.2.20/lib:/cm/shared/apps/slurm/current/lib64/slurm:/cm/shared/apps/slurm/current/lib64\n",
      "2022-09-24 14:44:05.522884: I tensorflow/stream_executor/cuda/cudart_stub.cc:29] Ignore above cudart dlerror if you do not have a GPU set up on your machine.\n"
     ]
    }
   ],
   "source": [
    "#-------------importing libraries\n",
    "import numpy as np\n",
    "import pandas as pd\n",
    "from tensorflow.keras.models import load_model"
   ]
  },
  {
   "cell_type": "markdown",
   "id": "02f3794d-4e15-4bf7-918f-da9a9e9234e6",
   "metadata": {},
   "source": [
    "## Loading test data"
   ]
  },
  {
   "cell_type": "code",
   "execution_count": 2,
   "id": "dd050ead-a98f-487f-9957-5167a0c2540b",
   "metadata": {},
   "outputs": [],
   "source": [
    "X_test = pd.read_csv(\"Data/X_test.csv\")\n",
    "y_test = pd.read_csv(\"Data/y_test.csv\")"
   ]
  },
  {
   "cell_type": "markdown",
   "id": "8cc2e8ee-1c57-4c97-8757-3103c9ac4ca1",
   "metadata": {},
   "source": [
    "# Loading Models\n",
    "## Monte Carlo Dropout\n",
    "\n",
    "### `.h5` format"
   ]
  },
  {
   "cell_type": "code",
   "execution_count": 3,
   "id": "935bd6e6-0a5e-450d-a9cd-7e0641a54ba8",
   "metadata": {},
   "outputs": [
    {
     "name": "stdout",
     "output_type": "stream",
     "text": [
      "Model: \"sequential\"\n",
      "_________________________________________________________________\n",
      " Layer (type)                Output Shape              Param #   \n",
      "=================================================================\n",
      " dense (Dense)               (None, 8)                 24        \n",
      "                                                                 \n",
      " dropout (Dropout)           (None, 8)                 0         \n",
      "                                                                 \n",
      " dense_1 (Dense)             (None, 16)                144       \n",
      "                                                                 \n",
      " dropout_1 (Dropout)         (None, 16)                0         \n",
      "                                                                 \n",
      " dense_2 (Dense)             (None, 16)                272       \n",
      "                                                                 \n",
      " dense_3 (Dense)             (None, 1)                 17        \n",
      "                                                                 \n",
      "=================================================================\n",
      "Total params: 457\n",
      "Trainable params: 457\n",
      "Non-trainable params: 0\n",
      "_________________________________________________________________\n"
     ]
    },
    {
     "name": "stderr",
     "output_type": "stream",
     "text": [
      "2022-09-24 14:44:08.482625: W tensorflow/stream_executor/platform/default/dso_loader.cc:64] Could not load dynamic library 'libcuda.so.1'; dlerror: libcuda.so.1: cannot open shared object file: No such file or directory; LD_LIBRARY_PATH: /cm/shared/apps/openmpi3/gcc/3.1.3/lib:/cm/shared/apps/nccl2-cuda10.2-gcc8/2.8.4/lib:/cm/shared/apps/cudnn7.6-cuda10.2/7.6.5.32/lib64:/cm/local/apps/cuda/libs/current/lib64:/cm/shared/apps/cuda10.2/toolkit/10.2.89/targets/x86_64-linux/lib:/cm/local/apps/python37/lib:/cm/shared/apps/gcc8/8.4.0/lib:/cm/shared/apps/gcc8/8.4.0/lib32:/cm/shared/apps/gcc8/8.4.0/lib64:/cm/shared/apps/hdf5_18/1.8.18-mpi/lib:/cm/shared/apps/openblas/0.2.20/lib:/cm/shared/apps/slurm/current/lib64/slurm:/cm/shared/apps/slurm/current/lib64\n",
      "2022-09-24 14:44:08.482660: W tensorflow/stream_executor/cuda/cuda_driver.cc:269] failed call to cuInit: UNKNOWN ERROR (303)\n",
      "2022-09-24 14:44:08.482685: I tensorflow/stream_executor/cuda/cuda_diagnostics.cc:156] kernel driver does not appear to be running on this host (r2-cpu-15): /proc/driver/nvidia/version does not exist\n",
      "2022-09-24 14:44:08.482957: I tensorflow/core/platform/cpu_feature_guard.cc:151] This TensorFlow binary is optimized with oneAPI Deep Neural Network Library (oneDNN) to use the following CPU instructions in performance-critical operations:  AVX2 FMA\n",
      "To enable them in other operations, rebuild TensorFlow with the appropriate compiler flags.\n"
     ]
    }
   ],
   "source": [
    "model_mcd_h5 = load_model(\"Saved_Models/Monte_Carlo_Dropout/model_mcd.h5\")\n",
    "model_mcd_h5.summary()"
   ]
  },
  {
   "cell_type": "markdown",
   "id": "9442f8b1-5966-4e18-9c03-ef5e819e2328",
   "metadata": {},
   "source": [
    "### Making predictions (MCD)"
   ]
  },
  {
   "cell_type": "code",
   "execution_count": 4,
   "id": "8814f397-a9c9-4b1c-aba6-d115f0071bd4",
   "metadata": {},
   "outputs": [],
   "source": [
    "#-------------Distribution of predictions\n",
    "def predict_dist(X, saved_model, num_samples):\n",
    "    '''\n",
    "    #----------Arguments/Inputs:\n",
    "        X: The input \n",
    "        saved_model: The dropout model\n",
    "        num_samples: Number of predictions to make\n",
    "    \n",
    "    #----------Output(s):\n",
    "        Returns all model predictions as a numpy array\n",
    "    '''\n",
    "    preds = [saved_model(X, training=True) for _ in range(num_samples)]\n",
    "    return np.hstack(preds)\n",
    "\n",
    "#-------------Distribution and Mean of predictions\n",
    "def predict_point(X, saved_model, num_samples):\n",
    "    '''\n",
    "    #----------Arguments/Inputs::\n",
    "        X: The input \n",
    "        saved_model: The dropout model\n",
    "        num_samples: Number of predictions to make\n",
    "    #----------Output(s):\n",
    "        Returns the mean and distribution of predictions\n",
    "    '''\n",
    "    pred_dist = predict_dist(X, saved_model, num_samples)\n",
    "    return pred_dist.mean(axis=1), pred_dist\n",
    "    #return stats.mode(pred_dist), pred_dist"
   ]
  },
  {
   "cell_type": "code",
   "execution_count": 5,
   "id": "0f396a50-fef2-436d-8aac-ff4d51f5baad",
   "metadata": {},
   "outputs": [
    {
     "data": {
      "text/plain": [
       "(array([0.7321405 , 0.87435555, 0.73496336, ..., 0.9049857 , 0.7484761 ,\n",
       "        0.7583228 ], dtype=float32),\n",
       " array([[0.73254466, 0.73206115, 0.7209013 , ..., 0.7308456 , 0.72595096,\n",
       "         0.72985613],\n",
       "        [0.84842473, 0.8800608 , 0.8685616 , ..., 0.86824155, 0.8762979 ,\n",
       "         0.87477666],\n",
       "        [0.7441313 , 0.74439955, 0.73934186, ..., 0.7367853 , 0.73708296,\n",
       "         0.7288079 ],\n",
       "        ...,\n",
       "        [0.9119562 , 0.89893264, 0.9050331 , ..., 0.9215157 , 0.9146234 ,\n",
       "         0.91581786],\n",
       "        [0.76504004, 0.7588123 , 0.742355  , ..., 0.7402612 , 0.7469099 ,\n",
       "         0.73611826],\n",
       "        [0.7560649 , 0.7539736 , 0.75851893, ..., 0.77402675, 0.7721853 ,\n",
       "         0.77319777]], dtype=float32))"
      ]
     },
     "execution_count": 5,
     "metadata": {},
     "output_type": "execute_result"
    }
   ],
   "source": [
    "n = 50 #number of predictions to make\n",
    "y_pred_dist_h5 = predict_dist(X_test.values, model_mcd_h5, n)\n",
    "y_pred_mcd_h5 = predict_point(X_test.values, model_mcd_h5, n)\n",
    "y_pred_mcd_h5"
   ]
  },
  {
   "cell_type": "markdown",
   "id": "9bb984bb-ad05-4d32-a320-bf6c608e3537",
   "metadata": {},
   "source": [
    "\n",
    "### Protocol Buffer format\n",
    "Saving a model in this format saves it into multiple files. In the code below `tf_SavedModel_mcd` is the folder containing those files."
   ]
  },
  {
   "cell_type": "code",
   "execution_count": 6,
   "id": "b97d57ce-d0c1-411a-a465-4d71be6e8aec",
   "metadata": {},
   "outputs": [
    {
     "name": "stdout",
     "output_type": "stream",
     "text": [
      "Model: \"sequential\"\n",
      "_________________________________________________________________\n",
      " Layer (type)                Output Shape              Param #   \n",
      "=================================================================\n",
      " dense (Dense)               (None, 8)                 24        \n",
      "                                                                 \n",
      " dropout (Dropout)           (None, 8)                 0         \n",
      "                                                                 \n",
      " dense_1 (Dense)             (None, 16)                144       \n",
      "                                                                 \n",
      " dropout_1 (Dropout)         (None, 16)                0         \n",
      "                                                                 \n",
      " dense_2 (Dense)             (None, 16)                272       \n",
      "                                                                 \n",
      " dense_3 (Dense)             (None, 1)                 17        \n",
      "                                                                 \n",
      "=================================================================\n",
      "Total params: 457\n",
      "Trainable params: 457\n",
      "Non-trainable params: 0\n",
      "_________________________________________________________________\n"
     ]
    }
   ],
   "source": [
    "model_mcd_pb = load_model(\"Saved_Models/Monte_Carlo_Dropout/tf_SavedModel_mcd\")\n",
    "model_mcd_pb.summary()"
   ]
  },
  {
   "cell_type": "markdown",
   "id": "44e31835-6c3e-4f3d-8ee0-3485985a7905",
   "metadata": {},
   "source": [
    "### Making predictions (MCD)"
   ]
  },
  {
   "cell_type": "code",
   "execution_count": 7,
   "id": "035c3a1a-7def-431b-90ac-0ce8f74cb568",
   "metadata": {},
   "outputs": [
    {
     "data": {
      "text/plain": [
       "(array([0.73386276, 0.8764646 , 0.73409647, ..., 0.9033225 , 0.75019133,\n",
       "        0.75021094], dtype=float32),\n",
       " array([[0.7328186 , 0.7276838 , 0.7425178 , ..., 0.735227  , 0.72411156,\n",
       "         0.7256087 ],\n",
       "        [0.87960994, 0.8804644 , 0.88706166, ..., 0.8932644 , 0.8932431 ,\n",
       "         0.8792416 ],\n",
       "        [0.73229885, 0.72329426, 0.734357  , ..., 0.7250036 , 0.7313055 ,\n",
       "         0.7633828 ],\n",
       "        ...,\n",
       "        [0.9051845 , 0.9148581 , 0.9074991 , ..., 0.86992383, 0.9087603 ,\n",
       "         0.8961021 ],\n",
       "        [0.78384745, 0.75780296, 0.7477795 , ..., 0.7439172 , 0.74085975,\n",
       "         0.7411423 ],\n",
       "        [0.74221694, 0.7402245 , 0.75584614, ..., 0.7353674 , 0.7651681 ,\n",
       "         0.76236284]], dtype=float32))"
      ]
     },
     "execution_count": 7,
     "metadata": {},
     "output_type": "execute_result"
    }
   ],
   "source": [
    "y_pred_dist_pb = predict_dist(X_test.values, model_mcd_pb, n)\n",
    "y_pred_mcd_pb = predict_point(X_test.values, model_mcd_pb, n)\n",
    "y_pred_mcd_pb"
   ]
  },
  {
   "cell_type": "markdown",
   "id": "479c0d1e-000a-4eea-8e7f-a3e41c8a5a29",
   "metadata": {},
   "source": [
    "**NOTE:** In the two cases above, we can simply do `model.predict()` to make single point predictions. This way, dropout is not utilized at prediction time.\n",
    "\n",
    "\n",
    "## Deep Ensembles (DE)\n",
    "\n",
    "DE creates several models, hence, saving the models using the `.h5` and `protocol buffer` formats store the models the same way. The two methods save all the individual models into separate `.h5` files in a folder. Thus, loading the models is the same for the two methods. We can check the model summary of any of the models loaded. We can also use any of the models to make single point predictions. Below, we load all models into a list and the use each of them to predict on the test set. We will then calculate the mean and standard deviation of predictions as the aggregate prediction and measure of uncertainty, respectively."
   ]
  },
  {
   "cell_type": "code",
   "execution_count": 8,
   "id": "c4e7809e-4e8b-48c4-9fa9-7b5ad9b09932",
   "metadata": {
    "collapsed": true,
    "jupyter": {
     "outputs_hidden": true
    },
    "tags": []
   },
   "outputs": [
    {
     "name": "stdout",
     "output_type": "stream",
     "text": [
      "WARNING:tensorflow:No training configuration found in the save file, so the model was *not* compiled. Compile it manually.\n",
      "WARNING:tensorflow:No training configuration found in the save file, so the model was *not* compiled. Compile it manually.\n",
      "WARNING:tensorflow:No training configuration found in the save file, so the model was *not* compiled. Compile it manually.\n",
      "WARNING:tensorflow:No training configuration found in the save file, so the model was *not* compiled. Compile it manually.\n",
      "WARNING:tensorflow:No training configuration found in the save file, so the model was *not* compiled. Compile it manually.\n",
      "WARNING:tensorflow:No training configuration found in the save file, so the model was *not* compiled. Compile it manually.\n",
      "WARNING:tensorflow:No training configuration found in the save file, so the model was *not* compiled. Compile it manually.\n",
      "WARNING:tensorflow:No training configuration found in the save file, so the model was *not* compiled. Compile it manually.\n",
      "WARNING:tensorflow:No training configuration found in the save file, so the model was *not* compiled. Compile it manually.\n",
      "WARNING:tensorflow:No training configuration found in the save file, so the model was *not* compiled. Compile it manually.\n",
      "WARNING:tensorflow:No training configuration found in the save file, so the model was *not* compiled. Compile it manually.\n",
      "WARNING:tensorflow:No training configuration found in the save file, so the model was *not* compiled. Compile it manually.\n",
      "WARNING:tensorflow:No training configuration found in the save file, so the model was *not* compiled. Compile it manually.\n",
      "WARNING:tensorflow:No training configuration found in the save file, so the model was *not* compiled. Compile it manually.\n",
      "WARNING:tensorflow:No training configuration found in the save file, so the model was *not* compiled. Compile it manually.\n",
      "WARNING:tensorflow:No training configuration found in the save file, so the model was *not* compiled. Compile it manually.\n",
      "WARNING:tensorflow:No training configuration found in the save file, so the model was *not* compiled. Compile it manually.\n",
      "WARNING:tensorflow:No training configuration found in the save file, so the model was *not* compiled. Compile it manually.\n",
      "WARNING:tensorflow:No training configuration found in the save file, so the model was *not* compiled. Compile it manually.\n",
      "WARNING:tensorflow:No training configuration found in the save file, so the model was *not* compiled. Compile it manually.\n",
      "WARNING:tensorflow:No training configuration found in the save file, so the model was *not* compiled. Compile it manually.\n",
      "WARNING:tensorflow:No training configuration found in the save file, so the model was *not* compiled. Compile it manually.\n",
      "WARNING:tensorflow:No training configuration found in the save file, so the model was *not* compiled. Compile it manually.\n",
      "WARNING:tensorflow:No training configuration found in the save file, so the model was *not* compiled. Compile it manually.\n",
      "WARNING:tensorflow:No training configuration found in the save file, so the model was *not* compiled. Compile it manually.\n",
      "WARNING:tensorflow:No training configuration found in the save file, so the model was *not* compiled. Compile it manually.\n",
      "WARNING:tensorflow:No training configuration found in the save file, so the model was *not* compiled. Compile it manually.\n",
      "WARNING:tensorflow:No training configuration found in the save file, so the model was *not* compiled. Compile it manually.\n",
      "WARNING:tensorflow:No training configuration found in the save file, so the model was *not* compiled. Compile it manually.\n",
      "WARNING:tensorflow:No training configuration found in the save file, so the model was *not* compiled. Compile it manually.\n",
      "WARNING:tensorflow:No training configuration found in the save file, so the model was *not* compiled. Compile it manually.\n",
      "WARNING:tensorflow:No training configuration found in the save file, so the model was *not* compiled. Compile it manually.\n",
      "WARNING:tensorflow:No training configuration found in the save file, so the model was *not* compiled. Compile it manually.\n",
      "WARNING:tensorflow:No training configuration found in the save file, so the model was *not* compiled. Compile it manually.\n",
      "WARNING:tensorflow:No training configuration found in the save file, so the model was *not* compiled. Compile it manually.\n",
      "WARNING:tensorflow:No training configuration found in the save file, so the model was *not* compiled. Compile it manually.\n",
      "WARNING:tensorflow:No training configuration found in the save file, so the model was *not* compiled. Compile it manually.\n",
      "WARNING:tensorflow:No training configuration found in the save file, so the model was *not* compiled. Compile it manually.\n",
      "WARNING:tensorflow:No training configuration found in the save file, so the model was *not* compiled. Compile it manually.\n",
      "WARNING:tensorflow:No training configuration found in the save file, so the model was *not* compiled. Compile it manually.\n",
      "WARNING:tensorflow:No training configuration found in the save file, so the model was *not* compiled. Compile it manually.\n",
      "WARNING:tensorflow:No training configuration found in the save file, so the model was *not* compiled. Compile it manually.\n",
      "WARNING:tensorflow:No training configuration found in the save file, so the model was *not* compiled. Compile it manually.\n",
      "WARNING:tensorflow:No training configuration found in the save file, so the model was *not* compiled. Compile it manually.\n",
      "WARNING:tensorflow:No training configuration found in the save file, so the model was *not* compiled. Compile it manually.\n",
      "WARNING:tensorflow:No training configuration found in the save file, so the model was *not* compiled. Compile it manually.\n",
      "WARNING:tensorflow:No training configuration found in the save file, so the model was *not* compiled. Compile it manually.\n",
      "WARNING:tensorflow:No training configuration found in the save file, so the model was *not* compiled. Compile it manually.\n",
      "WARNING:tensorflow:No training configuration found in the save file, so the model was *not* compiled. Compile it manually.\n",
      "WARNING:tensorflow:No training configuration found in the save file, so the model was *not* compiled. Compile it manually.\n"
     ]
    }
   ],
   "source": [
    "models_de = list()\n",
    "\n",
    "import glob\n",
    "#-------------Reading all files ending with .hdf5\n",
    "models = sorted(glob.glob(\"Saved_Models/Deep_Ensembles/tf_SavedModel_de/*.hdf5\"))\n",
    "\n",
    "for file in models:\n",
    "    models_de.append(load_model(file))"
   ]
  },
  {
   "cell_type": "markdown",
   "id": "6c79c42c-4c3b-42a0-ab90-f0ba07531b51",
   "metadata": {
    "tags": []
   },
   "source": [
    "### Making predictions (DE)"
   ]
  },
  {
   "cell_type": "code",
   "execution_count": 9,
   "id": "f1af6fb0-da22-4faf-9893-27d204485221",
   "metadata": {},
   "outputs": [
    {
     "name": "stdout",
     "output_type": "stream",
     "text": [
      "CPU times: user 55min 29s, sys: 5min 38s, total: 1h 1min 8s\n",
      "Wall time: 44min 32s\n"
     ]
    }
   ],
   "source": [
    "%%time\n",
    "predictions_de = pd.DataFrame()\n",
    "for model in models_de:\n",
    "    y_pred = pd.DataFrame(model.predict(X_test.values)[0].ravel())\n",
    "    predictions_de = pd.concat([predictions_de, y_pred], axis=1)"
   ]
  },
  {
   "cell_type": "code",
   "execution_count": 10,
   "id": "1a7a9b94-c730-4686-ab75-5e9be50aad99",
   "metadata": {},
   "outputs": [
    {
     "data": {
      "text/html": [
       "<div>\n",
       "<style scoped>\n",
       "    .dataframe tbody tr th:only-of-type {\n",
       "        vertical-align: middle;\n",
       "    }\n",
       "\n",
       "    .dataframe tbody tr th {\n",
       "        vertical-align: top;\n",
       "    }\n",
       "\n",
       "    .dataframe thead th {\n",
       "        text-align: right;\n",
       "    }\n",
       "</style>\n",
       "<table border=\"1\" class=\"dataframe\">\n",
       "  <thead>\n",
       "    <tr style=\"text-align: right;\">\n",
       "      <th></th>\n",
       "      <th>0</th>\n",
       "      <th>0</th>\n",
       "      <th>0</th>\n",
       "      <th>0</th>\n",
       "      <th>0</th>\n",
       "      <th>0</th>\n",
       "      <th>0</th>\n",
       "      <th>0</th>\n",
       "      <th>0</th>\n",
       "      <th>0</th>\n",
       "      <th>...</th>\n",
       "      <th>0</th>\n",
       "      <th>0</th>\n",
       "      <th>0</th>\n",
       "      <th>0</th>\n",
       "      <th>0</th>\n",
       "      <th>0</th>\n",
       "      <th>0</th>\n",
       "      <th>0</th>\n",
       "      <th>0</th>\n",
       "      <th>0</th>\n",
       "    </tr>\n",
       "  </thead>\n",
       "  <tbody>\n",
       "    <tr>\n",
       "      <th>0</th>\n",
       "      <td>0.731615</td>\n",
       "      <td>0.724239</td>\n",
       "      <td>0.732037</td>\n",
       "      <td>0.733419</td>\n",
       "      <td>0.713078</td>\n",
       "      <td>0.723757</td>\n",
       "      <td>0.723448</td>\n",
       "      <td>0.728760</td>\n",
       "      <td>0.713061</td>\n",
       "      <td>0.734045</td>\n",
       "      <td>...</td>\n",
       "      <td>0.711359</td>\n",
       "      <td>0.724094</td>\n",
       "      <td>0.712826</td>\n",
       "      <td>0.727574</td>\n",
       "      <td>0.723969</td>\n",
       "      <td>0.727784</td>\n",
       "      <td>0.725792</td>\n",
       "      <td>0.725865</td>\n",
       "      <td>0.727391</td>\n",
       "      <td>0.724090</td>\n",
       "    </tr>\n",
       "    <tr>\n",
       "      <th>1</th>\n",
       "      <td>0.877722</td>\n",
       "      <td>0.869864</td>\n",
       "      <td>0.873159</td>\n",
       "      <td>0.881924</td>\n",
       "      <td>0.871429</td>\n",
       "      <td>0.871090</td>\n",
       "      <td>0.867665</td>\n",
       "      <td>0.872247</td>\n",
       "      <td>0.872348</td>\n",
       "      <td>0.873546</td>\n",
       "      <td>...</td>\n",
       "      <td>0.870423</td>\n",
       "      <td>0.871023</td>\n",
       "      <td>0.868172</td>\n",
       "      <td>0.869549</td>\n",
       "      <td>0.868327</td>\n",
       "      <td>0.873905</td>\n",
       "      <td>0.874002</td>\n",
       "      <td>0.865587</td>\n",
       "      <td>0.869559</td>\n",
       "      <td>0.868421</td>\n",
       "    </tr>\n",
       "    <tr>\n",
       "      <th>2</th>\n",
       "      <td>0.722733</td>\n",
       "      <td>0.718189</td>\n",
       "      <td>0.720094</td>\n",
       "      <td>0.722330</td>\n",
       "      <td>0.719715</td>\n",
       "      <td>0.722514</td>\n",
       "      <td>0.719618</td>\n",
       "      <td>0.718950</td>\n",
       "      <td>0.719201</td>\n",
       "      <td>0.720319</td>\n",
       "      <td>...</td>\n",
       "      <td>0.717739</td>\n",
       "      <td>0.721207</td>\n",
       "      <td>0.719036</td>\n",
       "      <td>0.718042</td>\n",
       "      <td>0.717301</td>\n",
       "      <td>0.725718</td>\n",
       "      <td>0.723644</td>\n",
       "      <td>0.712017</td>\n",
       "      <td>0.717343</td>\n",
       "      <td>0.717923</td>\n",
       "    </tr>\n",
       "    <tr>\n",
       "      <th>3</th>\n",
       "      <td>0.876152</td>\n",
       "      <td>0.872106</td>\n",
       "      <td>0.880441</td>\n",
       "      <td>0.883364</td>\n",
       "      <td>0.878575</td>\n",
       "      <td>0.877845</td>\n",
       "      <td>0.871757</td>\n",
       "      <td>0.872004</td>\n",
       "      <td>0.878416</td>\n",
       "      <td>0.879061</td>\n",
       "      <td>...</td>\n",
       "      <td>0.876075</td>\n",
       "      <td>0.868940</td>\n",
       "      <td>0.874702</td>\n",
       "      <td>0.871382</td>\n",
       "      <td>0.868688</td>\n",
       "      <td>0.878040</td>\n",
       "      <td>0.876968</td>\n",
       "      <td>0.871035</td>\n",
       "      <td>0.873602</td>\n",
       "      <td>0.872371</td>\n",
       "    </tr>\n",
       "    <tr>\n",
       "      <th>4</th>\n",
       "      <td>0.737384</td>\n",
       "      <td>0.733163</td>\n",
       "      <td>0.736845</td>\n",
       "      <td>0.743910</td>\n",
       "      <td>0.746132</td>\n",
       "      <td>0.735859</td>\n",
       "      <td>0.733614</td>\n",
       "      <td>0.736516</td>\n",
       "      <td>0.745797</td>\n",
       "      <td>0.739994</td>\n",
       "      <td>...</td>\n",
       "      <td>0.744687</td>\n",
       "      <td>0.736958</td>\n",
       "      <td>0.744965</td>\n",
       "      <td>0.733093</td>\n",
       "      <td>0.731865</td>\n",
       "      <td>0.738268</td>\n",
       "      <td>0.736418</td>\n",
       "      <td>0.731609</td>\n",
       "      <td>0.733635</td>\n",
       "      <td>0.732538</td>\n",
       "    </tr>\n",
       "  </tbody>\n",
       "</table>\n",
       "<p>5 rows × 50 columns</p>\n",
       "</div>"
      ],
      "text/plain": [
       "          0         0         0         0         0         0         0  \\\n",
       "0  0.731615  0.724239  0.732037  0.733419  0.713078  0.723757  0.723448   \n",
       "1  0.877722  0.869864  0.873159  0.881924  0.871429  0.871090  0.867665   \n",
       "2  0.722733  0.718189  0.720094  0.722330  0.719715  0.722514  0.719618   \n",
       "3  0.876152  0.872106  0.880441  0.883364  0.878575  0.877845  0.871757   \n",
       "4  0.737384  0.733163  0.736845  0.743910  0.746132  0.735859  0.733614   \n",
       "\n",
       "          0         0         0  ...         0         0         0         0  \\\n",
       "0  0.728760  0.713061  0.734045  ...  0.711359  0.724094  0.712826  0.727574   \n",
       "1  0.872247  0.872348  0.873546  ...  0.870423  0.871023  0.868172  0.869549   \n",
       "2  0.718950  0.719201  0.720319  ...  0.717739  0.721207  0.719036  0.718042   \n",
       "3  0.872004  0.878416  0.879061  ...  0.876075  0.868940  0.874702  0.871382   \n",
       "4  0.736516  0.745797  0.739994  ...  0.744687  0.736958  0.744965  0.733093   \n",
       "\n",
       "          0         0         0         0         0         0  \n",
       "0  0.723969  0.727784  0.725792  0.725865  0.727391  0.724090  \n",
       "1  0.868327  0.873905  0.874002  0.865587  0.869559  0.868421  \n",
       "2  0.717301  0.725718  0.723644  0.712017  0.717343  0.717923  \n",
       "3  0.868688  0.878040  0.876968  0.871035  0.873602  0.872371  \n",
       "4  0.731865  0.738268  0.736418  0.731609  0.733635  0.732538  \n",
       "\n",
       "[5 rows x 50 columns]"
      ]
     },
     "execution_count": 10,
     "metadata": {},
     "output_type": "execute_result"
    }
   ],
   "source": [
    "predictions_de.head()"
   ]
  },
  {
   "cell_type": "code",
   "execution_count": 11,
   "id": "8a3f5daf-4a66-493f-9e6c-adf70fc0faa6",
   "metadata": {},
   "outputs": [
    {
     "data": {
      "text/plain": [
       "array([0.72367835, 0.8702468 , 0.7193959 , ..., 0.90677124, 0.75349283,\n",
       "       0.7638224 ], dtype=float32)"
      ]
     },
     "execution_count": 11,
     "metadata": {},
     "output_type": "execute_result"
    }
   ],
   "source": [
    "y_pred_mean_de = predictions_de.mean(axis = 1).ravel()\n",
    "y_pred_mean_de"
   ]
  },
  {
   "cell_type": "code",
   "execution_count": 12,
   "id": "282d7657-72e1-4d75-a42c-f76aced20e9a",
   "metadata": {},
   "outputs": [
    {
     "data": {
      "text/plain": [
       "array([0.00599962, 0.00401134, 0.00316195, ..., 0.00306389, 0.00489022,\n",
       "       0.00433429], dtype=float32)"
      ]
     },
     "execution_count": 12,
     "metadata": {},
     "output_type": "execute_result"
    }
   ],
   "source": [
    "y_pred_std_de = predictions_de.std(axis = 1).ravel()\n",
    "y_pred_std_de"
   ]
  },
  {
   "cell_type": "markdown",
   "id": "a2336106-4b10-49a3-9e35-9a23320fab60",
   "metadata": {},
   "source": [
    "**NOTE:** The predicted values have not been inverse transformed\n",
    "\n",
    "# THE END"
   ]
  }
 ],
 "metadata": {
  "kernelspec": {
   "display_name": "Python 3 (ipykernel)",
   "language": "python",
   "name": "python3"
  },
  "language_info": {
   "codemirror_mode": {
    "name": "ipython",
    "version": 3
   },
   "file_extension": ".py",
   "mimetype": "text/x-python",
   "name": "python",
   "nbconvert_exporter": "python",
   "pygments_lexer": "ipython3",
   "version": "3.9.7"
  }
 },
 "nbformat": 4,
 "nbformat_minor": 5
}
