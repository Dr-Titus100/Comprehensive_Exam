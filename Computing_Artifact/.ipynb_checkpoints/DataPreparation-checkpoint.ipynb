{
 "cells": [
  {
   "cell_type": "markdown",
   "id": "96cffcc7",
   "metadata": {},
   "source": [
    "# Data Preparation \n",
    "\n",
    "\n",
    "\n",
    "## Packages"
   ]
  },
  {
   "cell_type": "code",
   "execution_count": 1,
   "id": "5e3bd3f6",
   "metadata": {},
   "outputs": [],
   "source": [
    "import os\n",
    "import glob\n",
    "import seedbank\n",
    "import numpy as np\n",
    "import pandas as pd\n",
    "import seaborn as sns\n",
    "import scipy.stats as sts\n",
    "from colossus.lss import peaks\n",
    "import matplotlib.pyplot as plt\n",
    "from collections import Counter\n",
    "from colossus.cosmology import cosmology\n",
    "from colossus.halo import profile_nfw, profile_dk14, profile_einasto"
   ]
  },
  {
   "cell_type": "markdown",
   "id": "e14763d0",
   "metadata": {},
   "source": [
    "## Loading data\n",
    "\n",
    "### Radial bins\n",
    "\n",
    "Variable definition of the radial bins data set:\n",
    "\n",
    "`r_min`: lower edge of the radial bin\n",
    "\n",
    "`r_mid`: middle of the radial bin. We adopt `r_mid` in our modeling process as the distance to the halo center.\n",
    "\n",
    "`r_max`: upper edge of the radial bin\n"
   ]
  },
  {
   "cell_type": "code",
   "execution_count": 2,
   "id": "a140d7c4",
   "metadata": {},
   "outputs": [
    {
     "data": {
      "text/html": [
       "<div>\n",
       "<style scoped>\n",
       "    .dataframe tbody tr th:only-of-type {\n",
       "        vertical-align: middle;\n",
       "    }\n",
       "\n",
       "    .dataframe tbody tr th {\n",
       "        vertical-align: top;\n",
       "    }\n",
       "\n",
       "    .dataframe thead th {\n",
       "        text-align: right;\n",
       "    }\n",
       "</style>\n",
       "<table border=\"1\" class=\"dataframe\">\n",
       "  <thead>\n",
       "    <tr style=\"text-align: right;\">\n",
       "      <th></th>\n",
       "      <th>r_min,</th>\n",
       "      <th>r_max,</th>\n",
       "      <th>r_mid</th>\n",
       "    </tr>\n",
       "  </thead>\n",
       "  <tbody>\n",
       "    <tr>\n",
       "      <th>0</th>\n",
       "      <td>0.047547</td>\n",
       "      <td>0.059858</td>\n",
       "      <td>0.053348</td>\n",
       "    </tr>\n",
       "    <tr>\n",
       "      <th>1</th>\n",
       "      <td>0.059858</td>\n",
       "      <td>0.075357</td>\n",
       "      <td>0.067162</td>\n",
       "    </tr>\n",
       "    <tr>\n",
       "      <th>2</th>\n",
       "      <td>0.075357</td>\n",
       "      <td>0.094868</td>\n",
       "      <td>0.084552</td>\n",
       "    </tr>\n",
       "    <tr>\n",
       "      <th>3</th>\n",
       "      <td>0.094868</td>\n",
       "      <td>0.119432</td>\n",
       "      <td>0.106444</td>\n",
       "    </tr>\n",
       "    <tr>\n",
       "      <th>4</th>\n",
       "      <td>0.119432</td>\n",
       "      <td>0.150356</td>\n",
       "      <td>0.134005</td>\n",
       "    </tr>\n",
       "    <tr>\n",
       "      <th>5</th>\n",
       "      <td>0.150356</td>\n",
       "      <td>0.189287</td>\n",
       "      <td>0.168702</td>\n",
       "    </tr>\n",
       "    <tr>\n",
       "      <th>6</th>\n",
       "      <td>0.189287</td>\n",
       "      <td>0.238298</td>\n",
       "      <td>0.212384</td>\n",
       "    </tr>\n",
       "    <tr>\n",
       "      <th>7</th>\n",
       "      <td>0.238298</td>\n",
       "      <td>0.300000</td>\n",
       "      <td>0.267375</td>\n",
       "    </tr>\n",
       "    <tr>\n",
       "      <th>8</th>\n",
       "      <td>0.300000</td>\n",
       "      <td>0.377678</td>\n",
       "      <td>0.336606</td>\n",
       "    </tr>\n",
       "    <tr>\n",
       "      <th>9</th>\n",
       "      <td>0.377678</td>\n",
       "      <td>0.475468</td>\n",
       "      <td>0.423761</td>\n",
       "    </tr>\n",
       "    <tr>\n",
       "      <th>10</th>\n",
       "      <td>0.475468</td>\n",
       "      <td>0.598579</td>\n",
       "      <td>0.533484</td>\n",
       "    </tr>\n",
       "    <tr>\n",
       "      <th>11</th>\n",
       "      <td>0.598579</td>\n",
       "      <td>0.753566</td>\n",
       "      <td>0.671616</td>\n",
       "    </tr>\n",
       "    <tr>\n",
       "      <th>12</th>\n",
       "      <td>0.753566</td>\n",
       "      <td>0.948683</td>\n",
       "      <td>0.845515</td>\n",
       "    </tr>\n",
       "    <tr>\n",
       "      <th>13</th>\n",
       "      <td>0.948683</td>\n",
       "      <td>1.194320</td>\n",
       "      <td>1.064440</td>\n",
       "    </tr>\n",
       "    <tr>\n",
       "      <th>14</th>\n",
       "      <td>1.194320</td>\n",
       "      <td>1.503560</td>\n",
       "      <td>1.340050</td>\n",
       "    </tr>\n",
       "    <tr>\n",
       "      <th>15</th>\n",
       "      <td>1.503560</td>\n",
       "      <td>1.892870</td>\n",
       "      <td>1.687020</td>\n",
       "    </tr>\n",
       "    <tr>\n",
       "      <th>16</th>\n",
       "      <td>1.892870</td>\n",
       "      <td>2.382980</td>\n",
       "      <td>2.123840</td>\n",
       "    </tr>\n",
       "    <tr>\n",
       "      <th>17</th>\n",
       "      <td>2.382980</td>\n",
       "      <td>3.000000</td>\n",
       "      <td>2.673750</td>\n",
       "    </tr>\n",
       "  </tbody>\n",
       "</table>\n",
       "</div>"
      ],
      "text/plain": [
       "      r_min,    r_max,     r_mid\n",
       "0   0.047547  0.059858  0.053348\n",
       "1   0.059858  0.075357  0.067162\n",
       "2   0.075357  0.094868  0.084552\n",
       "3   0.094868  0.119432  0.106444\n",
       "4   0.119432  0.150356  0.134005\n",
       "5   0.150356  0.189287  0.168702\n",
       "6   0.189287  0.238298  0.212384\n",
       "7   0.238298  0.300000  0.267375\n",
       "8   0.300000  0.377678  0.336606\n",
       "9   0.377678  0.475468  0.423761\n",
       "10  0.475468  0.598579  0.533484\n",
       "11  0.598579  0.753566  0.671616\n",
       "12  0.753566  0.948683  0.845515\n",
       "13  0.948683  1.194320  1.064440\n",
       "14  1.194320  1.503560  1.340050\n",
       "15  1.503560  1.892870  1.687020\n",
       "16  1.892870  2.382980  2.123840\n",
       "17  2.382980  3.000000  2.673750"
      ]
     },
     "execution_count": 2,
     "metadata": {},
     "output_type": "execute_result"
    }
   ],
   "source": [
    "radial_bins_3d = pd.read_table(\"rhoLb1050/radial_bins_3d.dat\", sep=\"\\s+\", skiprows=[1,2])\n",
    "radial_bins_3d"
   ]
  },
  {
   "cell_type": "code",
   "execution_count": null,
   "id": "a918ddad",
   "metadata": {},
   "outputs": [],
   "source": []
  },
  {
   "cell_type": "markdown",
   "id": "f6de10fc",
   "metadata": {},
   "source": [
    "### `rho_z` and `rockstar` data\n",
    "\n",
    "Getting the list of data files for `rho_z` and `rockstar` data.\n",
    "\n",
    "Note: The data was generated from two simulation boxes, shown below. We can view every halo in a single box, but there is usually some contamination at the edge of these boxes. Hence we eliminate halos from the redshift range 0.33 to 0.37.\n",
    "\n",
    "Box `Lb1050` $\\implies z < 0.32$\n",
    "\n",
    "Box `Lb2600` $\\implies z > 0.32$\n",
    "\n",
    "In the code below, we load the file names of the data we will be needing.\n"
   ]
  },
  {
   "cell_type": "code",
   "execution_count": 3,
   "id": "f80dbf0b",
   "metadata": {},
   "outputs": [],
   "source": [
    "#Bin 1050\n",
    "rho_1050 = sorted(glob.glob(\"rhoLb1050/rho*\"))\n",
    "rockstar_1050 = sorted(glob.glob(\"rhoLb1050/rock*\"))\n",
    "rho_1050 = rho_1050[0:14] + rho_1050[17:18] #files for redshifts 0.33 to 0.37 are corrupted due to the contamination. \n",
    "rockstar_1050 = rockstar_1050[0:14] + rockstar_1050[21:22]\n",
    "del rho_1050[-2] #eliminating the redshift bin 0.32 to 0.33.\n",
    "del rockstar_1050[-2]\n",
    "\n",
    "#Bin 2600\n",
    "rho_2600 = sorted(glob.glob(\"rhoLb2600/rho*\"))\n",
    "rockstar_2600 = sorted(glob.glob(\"rhoLb2600/rock*\"))\n",
    "rockstar_2600 = rockstar_2600[14:]\n",
    "rockstar_2600.remove(\"rhoLb2600/rockstar_rs_z_0.3_0.31.dat\")\n",
    "del rho_2600[:5] #eliminating the redshift bins from 0.32 to 0.37.\n",
    "del rockstar_2600[:5]\n",
    "\n",
    "rho_z = rho_1050 + rho_2600\n",
    "rockstar_rs_z = rockstar_1050 + rockstar_2600\n"
   ]
  },
  {
   "cell_type": "code",
   "execution_count": null,
   "id": "be9fcf8b",
   "metadata": {},
   "outputs": [],
   "source": []
  },
  {
   "cell_type": "markdown",
   "id": "330bf4f4",
   "metadata": {},
   "source": [
    "Loading `rho_z` data\n",
    "\n",
    "For each halo, the `rho_z` data set contains 20 different density values at each of the radial bins above. The first column contains the halo IDs."
   ]
  },
  {
   "cell_type": "code",
   "execution_count": 4,
   "id": "9a2aa7d9",
   "metadata": {},
   "outputs": [
    {
     "data": {
      "text/html": [
       "<div>\n",
       "<style scoped>\n",
       "    .dataframe tbody tr th:only-of-type {\n",
       "        vertical-align: middle;\n",
       "    }\n",
       "\n",
       "    .dataframe tbody tr th {\n",
       "        vertical-align: top;\n",
       "    }\n",
       "\n",
       "    .dataframe thead th {\n",
       "        text-align: right;\n",
       "    }\n",
       "</style>\n",
       "<table border=\"1\" class=\"dataframe\">\n",
       "  <thead>\n",
       "    <tr style=\"text-align: right;\">\n",
       "      <th></th>\n",
       "      <th>0</th>\n",
       "      <th>3</th>\n",
       "      <th>4</th>\n",
       "      <th>5</th>\n",
       "      <th>6</th>\n",
       "      <th>7</th>\n",
       "      <th>8</th>\n",
       "      <th>9</th>\n",
       "      <th>10</th>\n",
       "      <th>11</th>\n",
       "      <th>12</th>\n",
       "      <th>13</th>\n",
       "      <th>14</th>\n",
       "      <th>15</th>\n",
       "      <th>16</th>\n",
       "      <th>17</th>\n",
       "      <th>18</th>\n",
       "      <th>19</th>\n",
       "      <th>20</th>\n",
       "    </tr>\n",
       "  </thead>\n",
       "  <tbody>\n",
       "    <tr>\n",
       "      <th>0</th>\n",
       "      <td>4885861</td>\n",
       "      <td>7.099450e+15</td>\n",
       "      <td>4.681780e+15</td>\n",
       "      <td>3.998350e+15</td>\n",
       "      <td>2.935320e+15</td>\n",
       "      <td>2.150140e+15</td>\n",
       "      <td>1.495910e+15</td>\n",
       "      <td>9.866110e+14</td>\n",
       "      <td>6.701850e+14</td>\n",
       "      <td>4.420990e+14</td>\n",
       "      <td>2.807700e+14</td>\n",
       "      <td>1.777850e+14</td>\n",
       "      <td>1.137860e+14</td>\n",
       "      <td>6.712720e+13</td>\n",
       "      <td>4.330540e+13</td>\n",
       "      <td>2.107700e+13</td>\n",
       "      <td>9.337020e+12</td>\n",
       "      <td>5.147430e+12</td>\n",
       "      <td>3.314120e+12</td>\n",
       "    </tr>\n",
       "    <tr>\n",
       "      <th>1</th>\n",
       "      <td>9784661</td>\n",
       "      <td>3.886010e+15</td>\n",
       "      <td>3.258520e+15</td>\n",
       "      <td>1.914700e+15</td>\n",
       "      <td>1.975700e+15</td>\n",
       "      <td>1.570170e+15</td>\n",
       "      <td>1.056350e+15</td>\n",
       "      <td>7.331480e+14</td>\n",
       "      <td>5.099110e+14</td>\n",
       "      <td>3.388640e+14</td>\n",
       "      <td>2.370820e+14</td>\n",
       "      <td>1.711340e+14</td>\n",
       "      <td>1.122880e+14</td>\n",
       "      <td>6.138310e+13</td>\n",
       "      <td>3.301300e+13</td>\n",
       "      <td>1.771500e+13</td>\n",
       "      <td>1.147340e+13</td>\n",
       "      <td>6.856530e+12</td>\n",
       "      <td>2.345350e+12</td>\n",
       "    </tr>\n",
       "    <tr>\n",
       "      <th>2</th>\n",
       "      <td>10066287</td>\n",
       "      <td>3.736550e+15</td>\n",
       "      <td>3.595610e+15</td>\n",
       "      <td>2.252590e+15</td>\n",
       "      <td>1.975700e+15</td>\n",
       "      <td>1.423990e+15</td>\n",
       "      <td>9.358290e+14</td>\n",
       "      <td>6.277360e+14</td>\n",
       "      <td>4.713260e+14</td>\n",
       "      <td>3.186330e+14</td>\n",
       "      <td>2.215750e+14</td>\n",
       "      <td>1.367580e+14</td>\n",
       "      <td>8.783020e+13</td>\n",
       "      <td>6.357940e+13</td>\n",
       "      <td>3.485690e+13</td>\n",
       "      <td>2.019050e+13</td>\n",
       "      <td>1.085890e+13</td>\n",
       "      <td>5.372470e+12</td>\n",
       "      <td>1.535670e+12</td>\n",
       "    </tr>\n",
       "    <tr>\n",
       "      <th>3</th>\n",
       "      <td>12390043</td>\n",
       "      <td>6.725790e+15</td>\n",
       "      <td>4.831600e+15</td>\n",
       "      <td>3.604150e+15</td>\n",
       "      <td>2.577810e+15</td>\n",
       "      <td>1.466430e+15</td>\n",
       "      <td>9.358290e+14</td>\n",
       "      <td>5.673310e+14</td>\n",
       "      <td>3.585400e+14</td>\n",
       "      <td>2.195620e+14</td>\n",
       "      <td>1.410560e+14</td>\n",
       "      <td>8.384820e+13</td>\n",
       "      <td>5.550720e+13</td>\n",
       "      <td>3.487760e+13</td>\n",
       "      <td>2.273930e+13</td>\n",
       "      <td>1.572050e+13</td>\n",
       "      <td>1.301180e+13</td>\n",
       "      <td>4.127660e+12</td>\n",
       "      <td>1.119550e+12</td>\n",
       "    </tr>\n",
       "    <tr>\n",
       "      <th>4</th>\n",
       "      <td>5486940</td>\n",
       "      <td>5.455370e+15</td>\n",
       "      <td>3.745420e+15</td>\n",
       "      <td>2.703110e+15</td>\n",
       "      <td>2.304980e+15</td>\n",
       "      <td>1.589030e+15</td>\n",
       "      <td>1.053990e+15</td>\n",
       "      <td>6.999850e+14</td>\n",
       "      <td>5.164410e+14</td>\n",
       "      <td>3.010800e+14</td>\n",
       "      <td>1.878760e+14</td>\n",
       "      <td>1.197190e+14</td>\n",
       "      <td>7.809210e+13</td>\n",
       "      <td>5.199730e+13</td>\n",
       "      <td>2.855350e+13</td>\n",
       "      <td>1.258960e+13</td>\n",
       "      <td>5.889100e+12</td>\n",
       "      <td>3.929860e+12</td>\n",
       "      <td>1.697720e+12</td>\n",
       "    </tr>\n",
       "  </tbody>\n",
       "</table>\n",
       "</div>"
      ],
      "text/plain": [
       "          0             3             4             5             6  \\\n",
       "0   4885861  7.099450e+15  4.681780e+15  3.998350e+15  2.935320e+15   \n",
       "1   9784661  3.886010e+15  3.258520e+15  1.914700e+15  1.975700e+15   \n",
       "2  10066287  3.736550e+15  3.595610e+15  2.252590e+15  1.975700e+15   \n",
       "3  12390043  6.725790e+15  4.831600e+15  3.604150e+15  2.577810e+15   \n",
       "4   5486940  5.455370e+15  3.745420e+15  2.703110e+15  2.304980e+15   \n",
       "\n",
       "              7             8             9            10            11  \\\n",
       "0  2.150140e+15  1.495910e+15  9.866110e+14  6.701850e+14  4.420990e+14   \n",
       "1  1.570170e+15  1.056350e+15  7.331480e+14  5.099110e+14  3.388640e+14   \n",
       "2  1.423990e+15  9.358290e+14  6.277360e+14  4.713260e+14  3.186330e+14   \n",
       "3  1.466430e+15  9.358290e+14  5.673310e+14  3.585400e+14  2.195620e+14   \n",
       "4  1.589030e+15  1.053990e+15  6.999850e+14  5.164410e+14  3.010800e+14   \n",
       "\n",
       "             12            13            14            15            16  \\\n",
       "0  2.807700e+14  1.777850e+14  1.137860e+14  6.712720e+13  4.330540e+13   \n",
       "1  2.370820e+14  1.711340e+14  1.122880e+14  6.138310e+13  3.301300e+13   \n",
       "2  2.215750e+14  1.367580e+14  8.783020e+13  6.357940e+13  3.485690e+13   \n",
       "3  1.410560e+14  8.384820e+13  5.550720e+13  3.487760e+13  2.273930e+13   \n",
       "4  1.878760e+14  1.197190e+14  7.809210e+13  5.199730e+13  2.855350e+13   \n",
       "\n",
       "             17            18            19            20  \n",
       "0  2.107700e+13  9.337020e+12  5.147430e+12  3.314120e+12  \n",
       "1  1.771500e+13  1.147340e+13  6.856530e+12  2.345350e+12  \n",
       "2  2.019050e+13  1.085890e+13  5.372470e+12  1.535670e+12  \n",
       "3  1.572050e+13  1.301180e+13  4.127660e+12  1.119550e+12  \n",
       "4  1.258960e+13  5.889100e+12  3.929860e+12  1.697720e+12  "
      ]
     },
     "execution_count": 4,
     "metadata": {},
     "output_type": "execute_result"
    }
   ],
   "source": [
    "names = list(range(21))\n",
    "rho_z_data = pd.DataFrame(columns=names)\n",
    "\n",
    "for datafile in rho_z:\n",
    "    rho = pd.read_table(datafile, sep=\"\\s+\", header=None, skiprows=[0])\n",
    "    rho_z_data = pd.concat([rho_z_data, rho], axis=0)\n",
    "rho_z_data = rho_z_data.reset_index().drop(columns=[\"index\",1,2])\n",
    "rho_z_data.head()"
   ]
  },
  {
   "cell_type": "markdown",
   "id": "a0878a83",
   "metadata": {},
   "source": [
    "Loading `rockstar` data\n",
    "\n",
    "\n",
    "Variable definition of the `rockstar` data is given below:\n",
    "\n",
    "`id`: unique identifier for each halo\n",
    "\n",
    "`Mvir_Msun.h`: virial mass of the halo (measured in solar mass, $M_{\\odot}/h$), where $h$ is the Hubble constant.\n",
    "\n",
    "`z_orig`: original redshift\n",
    "\n",
    "`Rvir_Mpc.h`: virial radius in megaparsecs ($Mpc/h$)\n",
    "\n",
    "`pid`: parent ID. Halos with `pid = -1` are parent/host halos. For now, we are interested in only parent halos. Subhalos are difficult to handle due to dominant contributions from their host halos. As such, they cannot be modeled in isolation without accounting for these contributions.\n",
    "\n",
    "`rs`: scale radius of the halo\n",
    "\n",
    "We can obtain the concentration parameter using the equation $C_{vir}=\\frac{Rvir_Mpc.h}{rs}$ for every single halo.\n",
    "\n"
   ]
  },
  {
   "cell_type": "code",
   "execution_count": 5,
   "id": "5650ff19",
   "metadata": {},
   "outputs": [
    {
     "data": {
      "text/html": [
       "<div>\n",
       "<style scoped>\n",
       "    .dataframe tbody tr th:only-of-type {\n",
       "        vertical-align: middle;\n",
       "    }\n",
       "\n",
       "    .dataframe tbody tr th {\n",
       "        vertical-align: top;\n",
       "    }\n",
       "\n",
       "    .dataframe thead th {\n",
       "        text-align: right;\n",
       "    }\n",
       "</style>\n",
       "<table border=\"1\" class=\"dataframe\">\n",
       "  <thead>\n",
       "    <tr style=\"text-align: right;\">\n",
       "      <th></th>\n",
       "      <th>id</th>\n",
       "      <th>Mvir_Msun.h</th>\n",
       "      <th>z_orig</th>\n",
       "      <th>Rvir_Mpc.h</th>\n",
       "      <th>pid</th>\n",
       "      <th>rs</th>\n",
       "    </tr>\n",
       "  </thead>\n",
       "  <tbody>\n",
       "    <tr>\n",
       "      <th>0</th>\n",
       "      <td>4885861</td>\n",
       "      <td>1.083000e+15</td>\n",
       "      <td>0.182590</td>\n",
       "      <td>2.24837</td>\n",
       "      <td>-1</td>\n",
       "      <td>0.360575</td>\n",
       "    </tr>\n",
       "    <tr>\n",
       "      <th>1</th>\n",
       "      <td>9784661</td>\n",
       "      <td>9.987000e+14</td>\n",
       "      <td>0.183402</td>\n",
       "      <td>2.18886</td>\n",
       "      <td>-1</td>\n",
       "      <td>0.552047</td>\n",
       "    </tr>\n",
       "    <tr>\n",
       "      <th>2</th>\n",
       "      <td>10066287</td>\n",
       "      <td>9.211000e+14</td>\n",
       "      <td>0.183258</td>\n",
       "      <td>2.13058</td>\n",
       "      <td>-1</td>\n",
       "      <td>0.602310</td>\n",
       "    </tr>\n",
       "    <tr>\n",
       "      <th>3</th>\n",
       "      <td>12390043</td>\n",
       "      <td>6.790000e+14</td>\n",
       "      <td>0.189336</td>\n",
       "      <td>1.92786</td>\n",
       "      <td>-1</td>\n",
       "      <td>0.928506</td>\n",
       "    </tr>\n",
       "    <tr>\n",
       "      <th>4</th>\n",
       "      <td>5486940</td>\n",
       "      <td>6.694000e+14</td>\n",
       "      <td>0.188059</td>\n",
       "      <td>1.91804</td>\n",
       "      <td>-1</td>\n",
       "      <td>0.336492</td>\n",
       "    </tr>\n",
       "  </tbody>\n",
       "</table>\n",
       "</div>"
      ],
      "text/plain": [
       "         id   Mvir_Msun.h    z_orig  Rvir_Mpc.h pid        rs\n",
       "0   4885861  1.083000e+15  0.182590     2.24837  -1  0.360575\n",
       "1   9784661  9.987000e+14  0.183402     2.18886  -1  0.552047\n",
       "2  10066287  9.211000e+14  0.183258     2.13058  -1  0.602310\n",
       "3  12390043  6.790000e+14  0.189336     1.92786  -1  0.928506\n",
       "4   5486940  6.694000e+14  0.188059     1.91804  -1  0.336492"
      ]
     },
     "execution_count": 5,
     "metadata": {},
     "output_type": "execute_result"
    }
   ],
   "source": [
    "rockstar_data = pd.DataFrame(columns=[\"id\", \"Mvir_Msun.h\", \"z_orig\", \"Rvir_Mpc.h\", \"pid\", \"rs\"])\n",
    "\n",
    "for datafile in rockstar_rs_z:\n",
    "    rockstar = pd.read_table(datafile, sep=\"\\s+\", skiprows=[1])\n",
    "    rockstar.columns = [\"id\", \"Mvir_Msun.h\", \"z_orig\", \"Rvir_Mpc.h\", \"pid\", \"rs\"]\n",
    "    rockstar_data = pd.concat([rockstar_data, rockstar], axis=0)\n",
    "\n",
    "rockstar_data = rockstar_data.reset_index().drop(columns=[\"index\"])\n",
    "rockstar_data.head()"
   ]
  },
  {
   "cell_type": "code",
   "execution_count": null,
   "id": "b2790d74",
   "metadata": {},
   "outputs": [],
   "source": []
  },
  {
   "cell_type": "markdown",
   "id": "55eae882",
   "metadata": {},
   "source": [
    "We expect the halo ` id` to be the same across the different data sets. Here, we check to see if this condition is satisfied."
   ]
  },
  {
   "cell_type": "code",
   "execution_count": 6,
   "id": "91135705",
   "metadata": {},
   "outputs": [
    {
     "data": {
      "text/plain": [
       "True    1501468\n",
       "dtype: int64"
      ]
     },
     "execution_count": 6,
     "metadata": {},
     "output_type": "execute_result"
    }
   ],
   "source": [
    "(rho_z_data[0] == rockstar_data[\"id\"]).value_counts()"
   ]
  },
  {
   "cell_type": "markdown",
   "id": "545d7e29",
   "metadata": {},
   "source": [
    "Note: Here we notice that some halos have their parent id (pid) different from -1. Those halos will be removed from all the data sets."
   ]
  },
  {
   "cell_type": "code",
   "execution_count": 7,
   "id": "4d78ac90",
   "metadata": {},
   "outputs": [
    {
     "name": "stdout",
     "output_type": "stream",
     "text": [
      "True\n",
      "(73999, 6)\n"
     ]
    }
   ],
   "source": [
    "print(any(rockstar_data[[\"pid\"]] != -1))\n",
    "print(rockstar_data[rockstar_data[\"pid\"] != -1].shape)"
   ]
  },
  {
   "cell_type": "markdown",
   "id": "50e6c745",
   "metadata": {},
   "source": [
    "Removing halos with `pid` different from -1 from the `rockstar` data."
   ]
  },
  {
   "cell_type": "code",
   "execution_count": 8,
   "id": "5c9c8705",
   "metadata": {},
   "outputs": [
    {
     "name": "stdout",
     "output_type": "stream",
     "text": [
      "(1427469, 6)\n"
     ]
    },
    {
     "data": {
      "text/html": [
       "<div>\n",
       "<style scoped>\n",
       "    .dataframe tbody tr th:only-of-type {\n",
       "        vertical-align: middle;\n",
       "    }\n",
       "\n",
       "    .dataframe tbody tr th {\n",
       "        vertical-align: top;\n",
       "    }\n",
       "\n",
       "    .dataframe thead th {\n",
       "        text-align: right;\n",
       "    }\n",
       "</style>\n",
       "<table border=\"1\" class=\"dataframe\">\n",
       "  <thead>\n",
       "    <tr style=\"text-align: right;\">\n",
       "      <th></th>\n",
       "      <th>id</th>\n",
       "      <th>Mvir_Msun.h</th>\n",
       "      <th>z_orig</th>\n",
       "      <th>Rvir_Mpc.h</th>\n",
       "      <th>pid</th>\n",
       "      <th>rs</th>\n",
       "    </tr>\n",
       "  </thead>\n",
       "  <tbody>\n",
       "    <tr>\n",
       "      <th>0</th>\n",
       "      <td>4885861</td>\n",
       "      <td>1.083000e+15</td>\n",
       "      <td>0.182590</td>\n",
       "      <td>2.24837</td>\n",
       "      <td>-1</td>\n",
       "      <td>0.360575</td>\n",
       "    </tr>\n",
       "    <tr>\n",
       "      <th>1</th>\n",
       "      <td>9784661</td>\n",
       "      <td>9.987000e+14</td>\n",
       "      <td>0.183402</td>\n",
       "      <td>2.18886</td>\n",
       "      <td>-1</td>\n",
       "      <td>0.552047</td>\n",
       "    </tr>\n",
       "    <tr>\n",
       "      <th>2</th>\n",
       "      <td>10066287</td>\n",
       "      <td>9.211000e+14</td>\n",
       "      <td>0.183258</td>\n",
       "      <td>2.13058</td>\n",
       "      <td>-1</td>\n",
       "      <td>0.602310</td>\n",
       "    </tr>\n",
       "    <tr>\n",
       "      <th>3</th>\n",
       "      <td>12390043</td>\n",
       "      <td>6.790000e+14</td>\n",
       "      <td>0.189336</td>\n",
       "      <td>1.92786</td>\n",
       "      <td>-1</td>\n",
       "      <td>0.928506</td>\n",
       "    </tr>\n",
       "    <tr>\n",
       "      <th>4</th>\n",
       "      <td>5486940</td>\n",
       "      <td>6.694000e+14</td>\n",
       "      <td>0.188059</td>\n",
       "      <td>1.91804</td>\n",
       "      <td>-1</td>\n",
       "      <td>0.336492</td>\n",
       "    </tr>\n",
       "  </tbody>\n",
       "</table>\n",
       "</div>"
      ],
      "text/plain": [
       "         id   Mvir_Msun.h    z_orig  Rvir_Mpc.h pid        rs\n",
       "0   4885861  1.083000e+15  0.182590     2.24837  -1  0.360575\n",
       "1   9784661  9.987000e+14  0.183402     2.18886  -1  0.552047\n",
       "2  10066287  9.211000e+14  0.183258     2.13058  -1  0.602310\n",
       "3  12390043  6.790000e+14  0.189336     1.92786  -1  0.928506\n",
       "4   5486940  6.694000e+14  0.188059     1.91804  -1  0.336492"
      ]
     },
     "execution_count": 8,
     "metadata": {},
     "output_type": "execute_result"
    }
   ],
   "source": [
    "rockstar_data1 = rockstar_data[rockstar_data[\"pid\"] == -1]\n",
    "rockstar_data1 = pd.DataFrame(rockstar_data1)\n",
    "print(rockstar_data1.shape)\n",
    "rockstar_data1.head()"
   ]
  },
  {
   "cell_type": "markdown",
   "id": "0be8c913",
   "metadata": {},
   "source": [
    "Removing halos with `pid` different from -1 from the `rho_z` data. The `rho_z` data does not have the column `pid` so we use the indexes of the `rockstar` data above.\n",
    "\n",
    "Next, we check again to make sure that the halo ids are still the same.\n"
   ]
  },
  {
   "cell_type": "code",
   "execution_count": 9,
   "id": "12bead7a",
   "metadata": {},
   "outputs": [
    {
     "name": "stdout",
     "output_type": "stream",
     "text": [
      "(1427469, 19)\n"
     ]
    },
    {
     "data": {
      "text/html": [
       "<div>\n",
       "<style scoped>\n",
       "    .dataframe tbody tr th:only-of-type {\n",
       "        vertical-align: middle;\n",
       "    }\n",
       "\n",
       "    .dataframe tbody tr th {\n",
       "        vertical-align: top;\n",
       "    }\n",
       "\n",
       "    .dataframe thead th {\n",
       "        text-align: right;\n",
       "    }\n",
       "</style>\n",
       "<table border=\"1\" class=\"dataframe\">\n",
       "  <thead>\n",
       "    <tr style=\"text-align: right;\">\n",
       "      <th></th>\n",
       "      <th>0</th>\n",
       "      <th>3</th>\n",
       "      <th>4</th>\n",
       "      <th>5</th>\n",
       "      <th>6</th>\n",
       "      <th>7</th>\n",
       "      <th>8</th>\n",
       "      <th>9</th>\n",
       "      <th>10</th>\n",
       "      <th>11</th>\n",
       "      <th>12</th>\n",
       "      <th>13</th>\n",
       "      <th>14</th>\n",
       "      <th>15</th>\n",
       "      <th>16</th>\n",
       "      <th>17</th>\n",
       "      <th>18</th>\n",
       "      <th>19</th>\n",
       "      <th>20</th>\n",
       "    </tr>\n",
       "  </thead>\n",
       "  <tbody>\n",
       "    <tr>\n",
       "      <th>0</th>\n",
       "      <td>4885861</td>\n",
       "      <td>7.099450e+15</td>\n",
       "      <td>4.681780e+15</td>\n",
       "      <td>3.998350e+15</td>\n",
       "      <td>2.935320e+15</td>\n",
       "      <td>2.150140e+15</td>\n",
       "      <td>1.495910e+15</td>\n",
       "      <td>9.866110e+14</td>\n",
       "      <td>6.701850e+14</td>\n",
       "      <td>4.420990e+14</td>\n",
       "      <td>2.807700e+14</td>\n",
       "      <td>1.777850e+14</td>\n",
       "      <td>1.137860e+14</td>\n",
       "      <td>6.712720e+13</td>\n",
       "      <td>4.330540e+13</td>\n",
       "      <td>2.107700e+13</td>\n",
       "      <td>9.337020e+12</td>\n",
       "      <td>5.147430e+12</td>\n",
       "      <td>3.314120e+12</td>\n",
       "    </tr>\n",
       "    <tr>\n",
       "      <th>1</th>\n",
       "      <td>9784661</td>\n",
       "      <td>3.886010e+15</td>\n",
       "      <td>3.258520e+15</td>\n",
       "      <td>1.914700e+15</td>\n",
       "      <td>1.975700e+15</td>\n",
       "      <td>1.570170e+15</td>\n",
       "      <td>1.056350e+15</td>\n",
       "      <td>7.331480e+14</td>\n",
       "      <td>5.099110e+14</td>\n",
       "      <td>3.388640e+14</td>\n",
       "      <td>2.370820e+14</td>\n",
       "      <td>1.711340e+14</td>\n",
       "      <td>1.122880e+14</td>\n",
       "      <td>6.138310e+13</td>\n",
       "      <td>3.301300e+13</td>\n",
       "      <td>1.771500e+13</td>\n",
       "      <td>1.147340e+13</td>\n",
       "      <td>6.856530e+12</td>\n",
       "      <td>2.345350e+12</td>\n",
       "    </tr>\n",
       "    <tr>\n",
       "      <th>2</th>\n",
       "      <td>10066287</td>\n",
       "      <td>3.736550e+15</td>\n",
       "      <td>3.595610e+15</td>\n",
       "      <td>2.252590e+15</td>\n",
       "      <td>1.975700e+15</td>\n",
       "      <td>1.423990e+15</td>\n",
       "      <td>9.358290e+14</td>\n",
       "      <td>6.277360e+14</td>\n",
       "      <td>4.713260e+14</td>\n",
       "      <td>3.186330e+14</td>\n",
       "      <td>2.215750e+14</td>\n",
       "      <td>1.367580e+14</td>\n",
       "      <td>8.783020e+13</td>\n",
       "      <td>6.357940e+13</td>\n",
       "      <td>3.485690e+13</td>\n",
       "      <td>2.019050e+13</td>\n",
       "      <td>1.085890e+13</td>\n",
       "      <td>5.372470e+12</td>\n",
       "      <td>1.535670e+12</td>\n",
       "    </tr>\n",
       "    <tr>\n",
       "      <th>3</th>\n",
       "      <td>12390043</td>\n",
       "      <td>6.725790e+15</td>\n",
       "      <td>4.831600e+15</td>\n",
       "      <td>3.604150e+15</td>\n",
       "      <td>2.577810e+15</td>\n",
       "      <td>1.466430e+15</td>\n",
       "      <td>9.358290e+14</td>\n",
       "      <td>5.673310e+14</td>\n",
       "      <td>3.585400e+14</td>\n",
       "      <td>2.195620e+14</td>\n",
       "      <td>1.410560e+14</td>\n",
       "      <td>8.384820e+13</td>\n",
       "      <td>5.550720e+13</td>\n",
       "      <td>3.487760e+13</td>\n",
       "      <td>2.273930e+13</td>\n",
       "      <td>1.572050e+13</td>\n",
       "      <td>1.301180e+13</td>\n",
       "      <td>4.127660e+12</td>\n",
       "      <td>1.119550e+12</td>\n",
       "    </tr>\n",
       "    <tr>\n",
       "      <th>4</th>\n",
       "      <td>5486940</td>\n",
       "      <td>5.455370e+15</td>\n",
       "      <td>3.745420e+15</td>\n",
       "      <td>2.703110e+15</td>\n",
       "      <td>2.304980e+15</td>\n",
       "      <td>1.589030e+15</td>\n",
       "      <td>1.053990e+15</td>\n",
       "      <td>6.999850e+14</td>\n",
       "      <td>5.164410e+14</td>\n",
       "      <td>3.010800e+14</td>\n",
       "      <td>1.878760e+14</td>\n",
       "      <td>1.197190e+14</td>\n",
       "      <td>7.809210e+13</td>\n",
       "      <td>5.199730e+13</td>\n",
       "      <td>2.855350e+13</td>\n",
       "      <td>1.258960e+13</td>\n",
       "      <td>5.889100e+12</td>\n",
       "      <td>3.929860e+12</td>\n",
       "      <td>1.697720e+12</td>\n",
       "    </tr>\n",
       "  </tbody>\n",
       "</table>\n",
       "</div>"
      ],
      "text/plain": [
       "          0             3             4             5             6  \\\n",
       "0   4885861  7.099450e+15  4.681780e+15  3.998350e+15  2.935320e+15   \n",
       "1   9784661  3.886010e+15  3.258520e+15  1.914700e+15  1.975700e+15   \n",
       "2  10066287  3.736550e+15  3.595610e+15  2.252590e+15  1.975700e+15   \n",
       "3  12390043  6.725790e+15  4.831600e+15  3.604150e+15  2.577810e+15   \n",
       "4   5486940  5.455370e+15  3.745420e+15  2.703110e+15  2.304980e+15   \n",
       "\n",
       "              7             8             9            10            11  \\\n",
       "0  2.150140e+15  1.495910e+15  9.866110e+14  6.701850e+14  4.420990e+14   \n",
       "1  1.570170e+15  1.056350e+15  7.331480e+14  5.099110e+14  3.388640e+14   \n",
       "2  1.423990e+15  9.358290e+14  6.277360e+14  4.713260e+14  3.186330e+14   \n",
       "3  1.466430e+15  9.358290e+14  5.673310e+14  3.585400e+14  2.195620e+14   \n",
       "4  1.589030e+15  1.053990e+15  6.999850e+14  5.164410e+14  3.010800e+14   \n",
       "\n",
       "             12            13            14            15            16  \\\n",
       "0  2.807700e+14  1.777850e+14  1.137860e+14  6.712720e+13  4.330540e+13   \n",
       "1  2.370820e+14  1.711340e+14  1.122880e+14  6.138310e+13  3.301300e+13   \n",
       "2  2.215750e+14  1.367580e+14  8.783020e+13  6.357940e+13  3.485690e+13   \n",
       "3  1.410560e+14  8.384820e+13  5.550720e+13  3.487760e+13  2.273930e+13   \n",
       "4  1.878760e+14  1.197190e+14  7.809210e+13  5.199730e+13  2.855350e+13   \n",
       "\n",
       "             17            18            19            20  \n",
       "0  2.107700e+13  9.337020e+12  5.147430e+12  3.314120e+12  \n",
       "1  1.771500e+13  1.147340e+13  6.856530e+12  2.345350e+12  \n",
       "2  2.019050e+13  1.085890e+13  5.372470e+12  1.535670e+12  \n",
       "3  1.572050e+13  1.301180e+13  4.127660e+12  1.119550e+12  \n",
       "4  1.258960e+13  5.889100e+12  3.929860e+12  1.697720e+12  "
      ]
     },
     "execution_count": 9,
     "metadata": {},
     "output_type": "execute_result"
    }
   ],
   "source": [
    "diff_pid = rockstar_data[rockstar_data[\"pid\"] == -1]\n",
    "rho_z_data1 = rho_z_data.iloc[diff_pid.index, :]\n",
    "rho_z_data1 = pd.DataFrame(rho_z_data1)\n",
    "print(rho_z_data1.shape)\n",
    "rho_z_data1.head()"
   ]
  },
  {
   "cell_type": "code",
   "execution_count": 10,
   "id": "39c8cea0",
   "metadata": {},
   "outputs": [
    {
     "data": {
      "text/plain": [
       "True    1427469\n",
       "dtype: int64"
      ]
     },
     "execution_count": 10,
     "metadata": {},
     "output_type": "execute_result"
    }
   ],
   "source": [
    "(rho_z_data1[0]==rockstar_data1[\"id\"]).value_counts()"
   ]
  },
  {
   "cell_type": "code",
   "execution_count": null,
   "id": "f0527ffb",
   "metadata": {},
   "outputs": [],
   "source": []
  },
  {
   "cell_type": "markdown",
   "id": "749bac45",
   "metadata": {},
   "source": [
    "#### Converting from comoving to physical units\n",
    "Our data is in comoving but the Colossus package in Python, which we will be using, calibrates densities in physical units. Hence, we convert our units to physical units to allow for easy comparison between Colossus and our machine learning models.\n"
   ]
  },
  {
   "cell_type": "code",
   "execution_count": 11,
   "id": "53210d0c-6743-428c-8d6c-b96417b37565",
   "metadata": {},
   "outputs": [],
   "source": [
    "# rho_z_final2 = pd.DataFrame(rho_z_final1)\n",
    "rho_z_final = rho_z_data1.reset_index().drop(columns=[\"index\"])\n",
    "\n",
    "rockstar_final = pd.DataFrame(rockstar_data1)\n",
    "rockstar_final[\"Rvir_Mpc.h\"] = rockstar_final[\"Rvir_Mpc.h\"]/(1+rockstar_final[\"z_orig\"]) #Rvir/(1+z) -- converting from comoving Rvir to physical Rvir\n",
    "rockstar_final[\"rs\"] = rockstar_final[\"rs\"]/(1+rockstar_final[\"z_orig\"]) #rs/(1+z) -- converting from comoving rs to physical rs\n",
    "rockstar_final = rockstar_final.reset_index().drop(columns=[\"index\"])\n"
   ]
  },
  {
   "cell_type": "markdown",
   "id": "f7d6cc5c",
   "metadata": {},
   "source": [
    "Checking if all halo ids in the two data sets match"
   ]
  },
  {
   "cell_type": "code",
   "execution_count": 12,
   "id": "c4535e89",
   "metadata": {},
   "outputs": [
    {
     "data": {
      "text/plain": [
       "True    1427469\n",
       "dtype: int64"
      ]
     },
     "execution_count": 12,
     "metadata": {},
     "output_type": "execute_result"
    }
   ],
   "source": [
    "(rho_z_final[0]==rockstar_final[\"id\"]).value_counts()"
   ]
  },
  {
   "cell_type": "markdown",
   "id": "40ca7852",
   "metadata": {},
   "source": [
    "### Checking for Missing Values\n",
    "Clearly there are no missing values in the two data sets."
   ]
  },
  {
   "cell_type": "code",
   "execution_count": 13,
   "id": "6302c410",
   "metadata": {},
   "outputs": [
    {
     "name": "stdout",
     "output_type": "stream",
     "text": [
      "id             0\n",
      "Mvir_Msun.h    0\n",
      "z_orig         0\n",
      "Rvir_Mpc.h     0\n",
      "pid            0\n",
      "rs             0\n",
      "dtype: int64\n",
      "\n",
      "0     0\n",
      "3     0\n",
      "4     0\n",
      "5     0\n",
      "6     0\n",
      "7     0\n",
      "8     0\n",
      "9     0\n",
      "10    0\n",
      "11    0\n",
      "12    0\n",
      "13    0\n",
      "14    0\n",
      "15    0\n",
      "16    0\n",
      "17    0\n",
      "18    0\n",
      "19    0\n",
      "20    0\n",
      "dtype: int64\n"
     ]
    }
   ],
   "source": [
    "print(rockstar_final.isnull().sum())\n",
    "print()\n",
    "print(rho_z_final.isnull().sum())"
   ]
  },
  {
   "cell_type": "code",
   "execution_count": null,
   "id": "701830b8",
   "metadata": {},
   "outputs": [],
   "source": []
  },
  {
   "cell_type": "markdown",
   "id": "4cf71645",
   "metadata": {},
   "source": [
    "## Plot of density profiles\n",
    "\n",
    "We plot `rho_z` for first five halos"
   ]
  },
  {
   "cell_type": "code",
   "execution_count": 14,
   "id": "c1517d30",
   "metadata": {},
   "outputs": [
    {
     "data": {
      "image/png": "[encoded data removed]",
      "text/plain": [
       "<Figure size 576x432 with 1 Axes>"
      ]
     },
     "metadata": {
      "needs_background": "light"
     },
     "output_type": "display_data"
    }
   ],
   "source": [
    "plt.figure(figsize=(8,6)) \n",
    "plt.rc(\"axes\", labelsize=18) \n",
    "plt.title(\"Loglog plot\", fontsize = 30)\n",
    "plt.tick_params(axis=\"both\", direction=\"in\", length=8, which = \"both\", labelsize=20, top = True, right = True)\n",
    "plt.xlabel(r\"r-mid\", fontsize = 25)\n",
    "plt.ylabel(r\"$\\rho(r)$\", fontsize = 25)\n",
    "for i in range(5):\n",
    "    plt.loglog()\n",
    "    plt.plot(radial_bins_3d[[\"r_mid\"]]/(1 + rockstar_final.loc[i][2]), \n",
    "             rho_z_final.iloc[i, 1:]*(1 + rockstar_final.loc[i][2])**3, \"-\")"
   ]
  },
  {
   "cell_type": "markdown",
   "id": "014ea4bb",
   "metadata": {},
   "source": [
    "Here, we plot the density profile of a single halo arbitrarily selected from the data. We also plot the slope of the density profile. "
   ]
  },
  {
   "cell_type": "code",
   "execution_count": 15,
   "id": "00d73eb4",
   "metadata": {},
   "outputs": [],
   "source": [
    "row = 242548\n",
    "Mvir = rockstar_final.iloc[row][1]\n",
    "cvir = (rockstar_final.iloc[row][3])/(rockstar_final.iloc[0][5])\n",
    "z = rockstar_final.iloc[row][2]\n",
    "Rvir = rockstar_final.iloc[row][3]#/(1+z)\n",
    "r = radial_bins_3d[[\"r_mid\"]]/(1+z)"
   ]
  },
  {
   "cell_type": "code",
   "execution_count": 16,
   "id": "d32df735",
   "metadata": {},
   "outputs": [],
   "source": [
    "#Setting Cosmology.\n",
    "params = {'flat': True, 'H0': 70, 'Om0': 0.286, 'Ob0': 0.046, 'sigma8': 0.82, 'ns': 0.96}\n",
    "cosmology.addCosmology('myCosmo', params)\n",
    "cosmo = cosmology.setCosmology('myCosmo')\n",
    "\n",
    "#Fitting DK14 profile with the outer term calibrated by a power law\n",
    "p_dk14 = profile_dk14.getDK14ProfileWithOuterTerms(M = Mvir, c = cvir, z = z, mdef = 'vir', \n",
    "                                                   outer_term_names = ['pl'])\n",
    "#Fitting NFW profile\n",
    "p_nfw = profile_nfw.NFWProfile(M = Mvir, c = cvir, z = z, mdef = 'vir')\n",
    "\n",
    "#Fitting Einasto profile\n",
    "p_einasto = profile_einasto.EinastoProfile(M = Mvir, c = cvir, z = z, mdef = 'vir')\n",
    "\n",
    "#Density profiles\n",
    "rho_dk14 = p_dk14.density(r*1000) #DK14 predictions\n",
    "rho_nfw = p_nfw.density(r*1000) #NFW predictions\n",
    "rho_einasto = p_einasto.density(r*1000) #Einasto predictions\n",
    "\n",
    "# Slope\n",
    "rho_dk14_der = p_dk14.densityDerivativeLog(r[\"r_mid\"]*1000)\n",
    "rho_nfw_der = p_nfw.densityDerivativeLog(r*1000)\n",
    "rho_einasto_der = p_einasto.densityDerivativeLog(r*1000)"
   ]
  },
  {
   "cell_type": "code",
   "execution_count": 17,
   "id": "17fc261c",
   "metadata": {},
   "outputs": [],
   "source": [
    "def NFW_Profile(r, z, rhos = None, rs = None, Mvir = None, Cvir = None, Rvir = None):\n",
    "    '''\n",
    "    This function fits the NFW profile. \n",
    "    r: distance to halo center\n",
    "    z: redshift\n",
    "    rhos: scale density\n",
    "    Mvir: virial mass\n",
    "    Cvir: concentration parameter\n",
    "    Rvir: virial radius\n",
    "    \n",
    "    In addition r and z, one must supply either of the following to the function.\n",
    "    1. rhos and rs \n",
    "    2. Mvir, Cvir, and Rvir \n",
    "    '''\n",
    "    if rhos is not None and rs is not None:\n",
    "        density_nfw = rhos/((r/rs)*(1 + (r/rs))**2)\n",
    "    elif Mvir is not None and Cvir is not None and Rvir is not None:\n",
    "        Rx = Rvir\n",
    "        rs = Rx/Cvir\n",
    "        rhos = Mvir/(4*np.pi*rs**3*(np.log(1 + Cvir) - Cvir/(1+Cvir)))\n",
    "        density_nfw = rhos/((r/rs)*(1 + (r/rs))**2)\n",
    "    return rs, rhos, density_nfw#/(1+z)**3"
   ]
  },
  {
   "cell_type": "code",
   "execution_count": null,
   "id": "226725fc",
   "metadata": {},
   "outputs": [],
   "source": []
  },
  {
   "cell_type": "code",
   "execution_count": 18,
   "id": "e31f1e3d",
   "metadata": {},
   "outputs": [
    {
     "data": {
      "image/png": "[encoded data removed]",
      "text/plain": [
       "<Figure size 2016x864 with 2 Axes>"
      ]
     },
     "metadata": {
      "needs_background": "light"
     },
     "output_type": "display_data"
    }
   ],
   "source": [
    "plt.figure(figsize = (28,12))\n",
    "\n",
    "#Plotting the density profiles\n",
    "plt.subplot(1, 2, 1)\n",
    "plt.rc(\"axes\", labelsize = 40) \n",
    "plt.title(\"Density Profile\", fontsize = 45)\n",
    "plt.xlabel(r\"r [$h^{-1}Mpc$]\")\n",
    "plt.ylabel(r\"$\\rho(r) [M_{\\odot}h^2/Mpc^3]$\")\n",
    "plt.loglog()\n",
    "plt.plot(r, rho_z_final.iloc[row, 1:]*(1+z)**3, \"o\", label = \"Original Data\", linestyle='dotted', color = \"blue\")\n",
    "# plt.plot(r, NFW_Profile(r, z, Mvir = Mvir, Cvir = cvir, Rvir = Rvir)[2], \"-\", label = \"NFW Function\")\n",
    "plt.plot(r, rho_einasto*1e9, '--', label = 'Einasto', color = \"magenta\", marker=\"P\")\n",
    "plt.plot(r, rho_dk14*1e9, '-', label = 'DK14', color = \"black\", marker=\"*\")\n",
    "plt.plot(r, rho_nfw*1e9, '-', label = 'NFW', color = \"green\", marker=\"v\")\n",
    "plt.tick_params(axis=\"both\", direction=\"in\", length=8, which = \"both\", labelsize=20, top = True, right = True)\n",
    "plt.legend(fontsize=20)\n",
    "\n",
    "\n",
    "#Plotting the slope of the density profiles\n",
    "plt.subplot(1, 2, 2)\n",
    "plt.rc(\"axes\", labelsize = 40) \n",
    "plt.title(\"Slope of Density Profile\", fontsize = 45)\n",
    "plt.ylabel(r\"$\\frac{d\\ln\\rho(r)}{d\\ln r}$\")\n",
    "plt.xlabel(r\"r [$h^{-1}Mpc$]\")\n",
    "\n",
    "plt.xscale('log')\n",
    "plt.plot(r, rho_einasto_der*1e9, '--', label = 'Einasto', color = \"magenta\", marker=\"P\")\n",
    "plt.plot(r, rho_dk14_der*1e9, '-', label = 'DK14', color = \"black\", marker=\"*\")\n",
    "plt.plot(r, rho_nfw_der*1e9, label = 'NFW', color = \"green\", marker=\"v\");\n",
    "plt.tick_params(axis=\"both\", direction=\"in\", length=8, which = \"both\", labelsize=20, top = True, right = True)\n",
    "plt.show()"
   ]
  },
  {
   "cell_type": "code",
   "execution_count": null,
   "id": "e1cca244",
   "metadata": {},
   "outputs": [],
   "source": []
  },
  {
   "cell_type": "markdown",
   "id": "cef0134c",
   "metadata": {},
   "source": [
    "## Calculating peak height\n",
    "\n",
    "In this analysis, we will be the dimensionless peak height as opposed to using mass. This is because halo density profiles have been shown to heavily depend on peak height and also allow for the comparison of mass across redshifts.\n"
   ]
  },
  {
   "cell_type": "code",
   "execution_count": 19,
   "id": "3dd927b5",
   "metadata": {},
   "outputs": [
    {
     "data": {
      "text/html": [
       "<div>\n",
       "<style scoped>\n",
       "    .dataframe tbody tr th:only-of-type {\n",
       "        vertical-align: middle;\n",
       "    }\n",
       "\n",
       "    .dataframe tbody tr th {\n",
       "        vertical-align: top;\n",
       "    }\n",
       "\n",
       "    .dataframe thead th {\n",
       "        text-align: right;\n",
       "    }\n",
       "</style>\n",
       "<table border=\"1\" class=\"dataframe\">\n",
       "  <thead>\n",
       "    <tr style=\"text-align: right;\">\n",
       "      <th></th>\n",
       "      <th>id</th>\n",
       "      <th>Mvir_Msun.h</th>\n",
       "      <th>z_orig</th>\n",
       "      <th>Rvir_Mpc.h</th>\n",
       "      <th>pid</th>\n",
       "      <th>rs</th>\n",
       "      <th>PeakHeight</th>\n",
       "    </tr>\n",
       "  </thead>\n",
       "  <tbody>\n",
       "    <tr>\n",
       "      <th>0</th>\n",
       "      <td>4885861</td>\n",
       "      <td>1.083000e+15</td>\n",
       "      <td>0.182590</td>\n",
       "      <td>1.901225</td>\n",
       "      <td>-1</td>\n",
       "      <td>0.304903</td>\n",
       "      <td>3.548513</td>\n",
       "    </tr>\n",
       "    <tr>\n",
       "      <th>1</th>\n",
       "      <td>9784661</td>\n",
       "      <td>9.987000e+14</td>\n",
       "      <td>0.183402</td>\n",
       "      <td>1.849634</td>\n",
       "      <td>-1</td>\n",
       "      <td>0.466492</td>\n",
       "      <td>3.474035</td>\n",
       "    </tr>\n",
       "    <tr>\n",
       "      <th>2</th>\n",
       "      <td>10066287</td>\n",
       "      <td>9.211000e+14</td>\n",
       "      <td>0.183258</td>\n",
       "      <td>1.800605</td>\n",
       "      <td>-1</td>\n",
       "      <td>0.509027</td>\n",
       "      <td>3.400183</td>\n",
       "    </tr>\n",
       "    <tr>\n",
       "      <th>3</th>\n",
       "      <td>12390043</td>\n",
       "      <td>6.790000e+14</td>\n",
       "      <td>0.189336</td>\n",
       "      <td>1.620955</td>\n",
       "      <td>-1</td>\n",
       "      <td>0.780693</td>\n",
       "      <td>3.150932</td>\n",
       "    </tr>\n",
       "    <tr>\n",
       "      <th>4</th>\n",
       "      <td>5486940</td>\n",
       "      <td>6.694000e+14</td>\n",
       "      <td>0.188059</td>\n",
       "      <td>1.614432</td>\n",
       "      <td>-1</td>\n",
       "      <td>0.283228</td>\n",
       "      <td>3.137439</td>\n",
       "    </tr>\n",
       "  </tbody>\n",
       "</table>\n",
       "</div>"
      ],
      "text/plain": [
       "         id   Mvir_Msun.h    z_orig  Rvir_Mpc.h pid        rs  PeakHeight\n",
       "0   4885861  1.083000e+15  0.182590    1.901225  -1  0.304903    3.548513\n",
       "1   9784661  9.987000e+14  0.183402    1.849634  -1  0.466492    3.474035\n",
       "2  10066287  9.211000e+14  0.183258    1.800605  -1  0.509027    3.400183\n",
       "3  12390043  6.790000e+14  0.189336    1.620955  -1  0.780693    3.150932\n",
       "4   5486940  6.694000e+14  0.188059    1.614432  -1  0.283228    3.137439"
      ]
     },
     "execution_count": 19,
     "metadata": {},
     "output_type": "execute_result"
    }
   ],
   "source": [
    "rockstar_final[\"PeakHeight\"] = peaks.peakHeight(M = rockstar_final[\"Mvir_Msun.h\"], \n",
    "                                                     z = rockstar_final[\"z_orig\"])\n",
    "rockstar_final.head()"
   ]
  },
  {
   "cell_type": "code",
   "execution_count": 20,
   "id": "7cf56cd7",
   "metadata": {},
   "outputs": [
    {
     "data": {
      "image/png": "[encoded data removed]",
      "text/plain": [
       "<Figure size 432x288 with 1 Axes>"
      ]
     },
     "metadata": {
      "needs_background": "light"
     },
     "output_type": "display_data"
    }
   ],
   "source": [
    "# Boxplot of peak height\n",
    "sns.boxplot(data = rockstar_final[\"PeakHeight\"], palette=\"Set1\")\n",
    "plt.show()"
   ]
  },
  {
   "cell_type": "code",
   "execution_count": 21,
   "id": "b0ca5592",
   "metadata": {},
   "outputs": [
    {
     "data": {
      "text/plain": [
       "count    1.427469e+06\n",
       "mean     1.754571e+00\n",
       "std      2.665895e-01\n",
       "min      1.288427e+00\n",
       "25%      1.586047e+00\n",
       "50%      1.694026e+00\n",
       "75%      1.861975e+00\n",
       "max      4.930169e+00\n",
       "Name: PeakHeight, dtype: float64"
      ]
     },
     "execution_count": 21,
     "metadata": {},
     "output_type": "execute_result"
    }
   ],
   "source": [
    "rockstar_final[\"PeakHeight\"].describe()"
   ]
  },
  {
   "cell_type": "code",
   "execution_count": null,
   "id": "5b5c1cfe",
   "metadata": {},
   "outputs": [],
   "source": []
  },
  {
   "cell_type": "markdown",
   "id": "e8ebe55b",
   "metadata": {},
   "source": [
    "### Peak height bins\n",
    "\n",
    "Here, we bin the data by peak height. We create four peak height bins."
   ]
  },
  {
   "cell_type": "code",
   "execution_count": 22,
   "id": "2ec12bce",
   "metadata": {},
   "outputs": [],
   "source": [
    "#Four bins\n",
    "\n",
    "#First bin \n",
    "v1 = rockstar_final[rockstar_final[\"PeakHeight\"] <= 1.5]\n",
    "remainder1 = pd.concat([rockstar_final, v1]).drop_duplicates(keep=False)\n",
    "\n",
    "#Second bin \n",
    "v2 = remainder1[remainder1[\"PeakHeight\"] <= 1.75]\n",
    "remainder2 = pd.concat([remainder1, v2]).drop_duplicates(keep=False)\n",
    "\n",
    "#Third bin \n",
    "v3 = remainder2[remainder2[\"PeakHeight\"] <= 2.0]\n",
    "\n",
    "#Fourth bin \n",
    "v4 = pd.concat([remainder2, v3]).drop_duplicates(keep=False)\n",
    "\n",
    "v1 = pd.DataFrame(v1)\n",
    "v2 = pd.DataFrame(v2)\n",
    "v3 = pd.DataFrame(v3)\n",
    "v4 = pd.DataFrame(v4)\n",
    "\n",
    "x = [\"v1\", \"v2\", \"v3\", \"v4\"]\n",
    "y = [len(v1), len(v2), len(v3), len(v4)]"
   ]
  },
  {
   "cell_type": "markdown",
   "id": "2515897b",
   "metadata": {},
   "source": [
    "### Sampling from peak height bins\n",
    "\n",
    "We select equal samples from each bin. The sample size is the total number of observations in the smallest peak height bin.\n"
   ]
  },
  {
   "cell_type": "code",
   "execution_count": 23,
   "id": "91857755",
   "metadata": {},
   "outputs": [
    {
     "data": {
      "text/html": [
       "<div>\n",
       "<style scoped>\n",
       "    .dataframe tbody tr th:only-of-type {\n",
       "        vertical-align: middle;\n",
       "    }\n",
       "\n",
       "    .dataframe tbody tr th {\n",
       "        vertical-align: top;\n",
       "    }\n",
       "\n",
       "    .dataframe thead th {\n",
       "        text-align: right;\n",
       "    }\n",
       "</style>\n",
       "<table border=\"1\" class=\"dataframe\">\n",
       "  <thead>\n",
       "    <tr style=\"text-align: right;\">\n",
       "      <th></th>\n",
       "      <th>id</th>\n",
       "      <th>Mvir_Msun.h</th>\n",
       "      <th>z_orig</th>\n",
       "      <th>Rvir_Mpc.h</th>\n",
       "      <th>pid</th>\n",
       "      <th>rs</th>\n",
       "      <th>PeakHeight</th>\n",
       "    </tr>\n",
       "  </thead>\n",
       "  <tbody>\n",
       "    <tr>\n",
       "      <th>820247</th>\n",
       "      <td>28018334</td>\n",
       "      <td>6.513000e+13</td>\n",
       "      <td>0.563530</td>\n",
       "      <td>0.606208</td>\n",
       "      <td>-1</td>\n",
       "      <td>0.077629</td>\n",
       "      <td>2.221418</td>\n",
       "    </tr>\n",
       "    <tr>\n",
       "      <th>1385456</th>\n",
       "      <td>25146507</td>\n",
       "      <td>5.993000e+13</td>\n",
       "      <td>0.602220</td>\n",
       "      <td>0.578168</td>\n",
       "      <td>-1</td>\n",
       "      <td>0.116211</td>\n",
       "      <td>2.225276</td>\n",
       "    </tr>\n",
       "    <tr>\n",
       "      <th>1137696</th>\n",
       "      <td>25206119</td>\n",
       "      <td>4.012000e+13</td>\n",
       "      <td>0.631294</td>\n",
       "      <td>0.498435</td>\n",
       "      <td>-1</td>\n",
       "      <td>0.080292</td>\n",
       "      <td>2.083029</td>\n",
       "    </tr>\n",
       "    <tr>\n",
       "      <th>609903</th>\n",
       "      <td>32853590</td>\n",
       "      <td>8.901000e+13</td>\n",
       "      <td>0.512874</td>\n",
       "      <td>0.690500</td>\n",
       "      <td>-1</td>\n",
       "      <td>0.099577</td>\n",
       "      <td>2.312319</td>\n",
       "    </tr>\n",
       "    <tr>\n",
       "      <th>692190</th>\n",
       "      <td>35091696</td>\n",
       "      <td>5.944000e+13</td>\n",
       "      <td>0.539687</td>\n",
       "      <td>0.595265</td>\n",
       "      <td>-1</td>\n",
       "      <td>0.095313</td>\n",
       "      <td>2.155305</td>\n",
       "    </tr>\n",
       "  </tbody>\n",
       "</table>\n",
       "</div>"
      ],
      "text/plain": [
       "               id   Mvir_Msun.h    z_orig  Rvir_Mpc.h pid        rs  \\\n",
       "820247   28018334  6.513000e+13  0.563530    0.606208  -1  0.077629   \n",
       "1385456  25146507  5.993000e+13  0.602220    0.578168  -1  0.116211   \n",
       "1137696  25206119  4.012000e+13  0.631294    0.498435  -1  0.080292   \n",
       "609903   32853590  8.901000e+13  0.512874    0.690500  -1  0.099577   \n",
       "692190   35091696  5.944000e+13  0.539687    0.595265  -1  0.095313   \n",
       "\n",
       "         PeakHeight  \n",
       "820247     2.221418  \n",
       "1385456    2.225276  \n",
       "1137696    2.083029  \n",
       "609903     2.312319  \n",
       "692190     2.155305  "
      ]
     },
     "execution_count": 23,
     "metadata": {},
     "output_type": "execute_result"
    }
   ],
   "source": [
    "seedbank.initialize(1)\n",
    "rng = seedbank.numpy_rng()\n",
    "frac_v1 = v1.sample(n = len(v1), random_state = 0)\n",
    "frac_v2 = v2.sample(n = len(v1), random_state = 0)\n",
    "frac_v3 = v3.sample(n = len(v1), random_state = 0)\n",
    "frac_v4 = v4.sample(n = len(v1), random_state = 0)\n",
    "frac_v4.head()"
   ]
  },
  {
   "cell_type": "code",
   "execution_count": 24,
   "id": "32077eac",
   "metadata": {},
   "outputs": [],
   "source": [
    "x2 = [\"v1\", \"v2\", \"v3\", \"v4\"]\n",
    "y2 = [len(frac_v1), len(frac_v2), len(frac_v3), len(frac_v4)]"
   ]
  },
  {
   "cell_type": "code",
   "execution_count": 25,
   "id": "bb0d3a59",
   "metadata": {
    "scrolled": false
   },
   "outputs": [
    {
     "data": {
      "image/png": "[encoded data removed]",
      "text/plain": [
       "<Figure size 1692x576 with 2 Axes>"
      ]
     },
     "metadata": {
      "needs_background": "light"
     },
     "output_type": "display_data"
    }
   ],
   "source": [
    "#Comparing plots: Visual comparison\n",
    "\n",
    "plt.figure(figsize = (23.5,8))\n",
    "plt.subplot(1, 2, 1)\n",
    "\n",
    "sns.barplot(x = x, y = y)\n",
    "plt.xlabel(\"Bin\", fontsize = 30)\n",
    "plt.ylabel(\"Number of Halos\", fontsize = 30)\n",
    "plt.title(\"Original bin size\", fontsize = 35)\n",
    "plt.tick_params(axis=\"both\", direction=\"in\", length=8, which = \"both\", labelsize=20, top = True, right = True)\n",
    "\n",
    "\n",
    "###########################################################\n",
    "###########################################################\n",
    "plt.subplot(1, 2, 2)\n",
    "sns.barplot(x = x2, y = y2)\n",
    "plt.xlabel(\"Bin\", fontsize = 30)\n",
    "plt.ylabel(\"Number of Halos\", fontsize = 30)\n",
    "plt.title(\"Final bin size\", fontsize = 35)\n",
    "plt.tick_params(axis=\"both\", direction=\"in\", length=8, which = \"both\", labelsize=20, top = True, right = True)\n",
    "plt.show()"
   ]
  },
  {
   "cell_type": "markdown",
   "id": "8dd74ee3",
   "metadata": {},
   "source": [
    "## Subsetting from `rho_z` data\n",
    "\n",
    "For the `rho_z` data set, we subset it using the indexes found in the binned `rockstar_final_new` data set. Note that the original data sets have the same indexes; so we can pool halos records from all the different data frames using either the index or the halo id. Here, we use the indexes.\n",
    "\n"
   ]
  },
  {
   "cell_type": "code",
   "execution_count": 26,
   "id": "3293862a",
   "metadata": {},
   "outputs": [
    {
     "name": "stdout",
     "output_type": "stream",
     "text": [
      "True    630548\n",
      "dtype: int64\n"
     ]
    }
   ],
   "source": [
    "#putting all bins together\n",
    "frac_v1[\"Bin\"] = \"v1\"\n",
    "frac_v2[\"Bin\"] = \"v2\"\n",
    "frac_v3[\"Bin\"] = \"v3\"\n",
    "frac_v4[\"Bin\"] = \"v4\"\n",
    "# frac_v5[\"Bin\"] = \"v5\"\n",
    "rockstar_final_new = pd.concat([frac_v4, frac_v3, frac_v2, frac_v1])\n",
    "rho_final_new = rho_z_final.iloc[rockstar_final_new.index, :]\n",
    "\n",
    "print(pd.DataFrame(rockstar_final_new.index == rho_final_new.index).value_counts())\n",
    "\n",
    "rho_final_new = pd.DataFrame(rho_final_new.reset_index().drop(columns=[\"index\"]))\n",
    "rockstar_final_new = pd.DataFrame(rockstar_final_new.reset_index().drop(columns=[\"index\"]))"
   ]
  },
  {
   "cell_type": "code",
   "execution_count": 27,
   "id": "680c9e89",
   "metadata": {},
   "outputs": [
    {
     "data": {
      "text/plain": [
       "True    630548\n",
       "dtype: int64"
      ]
     },
     "execution_count": 27,
     "metadata": {},
     "output_type": "execute_result"
    }
   ],
   "source": [
    "(rho_final_new[0]==rockstar_final_new[\"id\"]).value_counts()"
   ]
  },
  {
   "cell_type": "code",
   "execution_count": null,
   "id": "a40753b7",
   "metadata": {},
   "outputs": [],
   "source": []
  },
  {
   "cell_type": "markdown",
   "id": "89d4f3fe",
   "metadata": {},
   "source": [
    "## New data frame\n",
    "\n",
    "We combine all of them into one data set. Note that we need to take into account the fact the variables in our data have their corresponding densities at 20 different radial bins in the `rho_z` data. We repeat each row in the `rockstar_final_new` data set to much their corresponding density values in the `rho_final_new` data set. We do the same to the `radial_bins_3d` data set.\n"
   ]
  },
  {
   "cell_type": "code",
   "execution_count": 28,
   "id": "a1008870",
   "metadata": {},
   "outputs": [
    {
     "name": "stdout",
     "output_type": "stream",
     "text": [
      "11349864\n"
     ]
    },
    {
     "data": {
      "text/html": [
       "<div>\n",
       "<style scoped>\n",
       "    .dataframe tbody tr th:only-of-type {\n",
       "        vertical-align: middle;\n",
       "    }\n",
       "\n",
       "    .dataframe tbody tr th {\n",
       "        vertical-align: top;\n",
       "    }\n",
       "\n",
       "    .dataframe thead th {\n",
       "        text-align: right;\n",
       "    }\n",
       "</style>\n",
       "<table border=\"1\" class=\"dataframe\">\n",
       "  <thead>\n",
       "    <tr style=\"text-align: right;\">\n",
       "      <th></th>\n",
       "      <th>index</th>\n",
       "      <th>id</th>\n",
       "      <th>Mvir_Msun.h</th>\n",
       "      <th>z_orig</th>\n",
       "      <th>Rvir_Mpc.h</th>\n",
       "      <th>pid</th>\n",
       "      <th>rs</th>\n",
       "      <th>PeakHeight</th>\n",
       "      <th>Bin</th>\n",
       "    </tr>\n",
       "  </thead>\n",
       "  <tbody>\n",
       "    <tr>\n",
       "      <th>0</th>\n",
       "      <td>0</td>\n",
       "      <td>28018334</td>\n",
       "      <td>6.513000e+13</td>\n",
       "      <td>0.56353</td>\n",
       "      <td>0.606208</td>\n",
       "      <td>-1</td>\n",
       "      <td>0.077629</td>\n",
       "      <td>2.221418</td>\n",
       "      <td>v4</td>\n",
       "    </tr>\n",
       "    <tr>\n",
       "      <th>1</th>\n",
       "      <td>0</td>\n",
       "      <td>28018334</td>\n",
       "      <td>6.513000e+13</td>\n",
       "      <td>0.56353</td>\n",
       "      <td>0.606208</td>\n",
       "      <td>-1</td>\n",
       "      <td>0.077629</td>\n",
       "      <td>2.221418</td>\n",
       "      <td>v4</td>\n",
       "    </tr>\n",
       "    <tr>\n",
       "      <th>2</th>\n",
       "      <td>0</td>\n",
       "      <td>28018334</td>\n",
       "      <td>6.513000e+13</td>\n",
       "      <td>0.56353</td>\n",
       "      <td>0.606208</td>\n",
       "      <td>-1</td>\n",
       "      <td>0.077629</td>\n",
       "      <td>2.221418</td>\n",
       "      <td>v4</td>\n",
       "    </tr>\n",
       "    <tr>\n",
       "      <th>3</th>\n",
       "      <td>0</td>\n",
       "      <td>28018334</td>\n",
       "      <td>6.513000e+13</td>\n",
       "      <td>0.56353</td>\n",
       "      <td>0.606208</td>\n",
       "      <td>-1</td>\n",
       "      <td>0.077629</td>\n",
       "      <td>2.221418</td>\n",
       "      <td>v4</td>\n",
       "    </tr>\n",
       "    <tr>\n",
       "      <th>4</th>\n",
       "      <td>0</td>\n",
       "      <td>28018334</td>\n",
       "      <td>6.513000e+13</td>\n",
       "      <td>0.56353</td>\n",
       "      <td>0.606208</td>\n",
       "      <td>-1</td>\n",
       "      <td>0.077629</td>\n",
       "      <td>2.221418</td>\n",
       "      <td>v4</td>\n",
       "    </tr>\n",
       "  </tbody>\n",
       "</table>\n",
       "</div>"
      ],
      "text/plain": [
       "   index        id   Mvir_Msun.h   z_orig  Rvir_Mpc.h pid        rs  \\\n",
       "0      0  28018334  6.513000e+13  0.56353    0.606208  -1  0.077629   \n",
       "1      0  28018334  6.513000e+13  0.56353    0.606208  -1  0.077629   \n",
       "2      0  28018334  6.513000e+13  0.56353    0.606208  -1  0.077629   \n",
       "3      0  28018334  6.513000e+13  0.56353    0.606208  -1  0.077629   \n",
       "4      0  28018334  6.513000e+13  0.56353    0.606208  -1  0.077629   \n",
       "\n",
       "   PeakHeight Bin  \n",
       "0    2.221418  v4  \n",
       "1    2.221418  v4  \n",
       "2    2.221418  v4  \n",
       "3    2.221418  v4  \n",
       "4    2.221418  v4  "
      ]
     },
     "execution_count": 28,
     "metadata": {},
     "output_type": "execute_result"
    }
   ],
   "source": [
    "New_rockstar_df = rockstar_final_new.apply(lambda row: row.repeat(18), axis=0).reset_index()\n",
    "print(len(New_rockstar_df))\n",
    "New_rockstar_df.head()"
   ]
  },
  {
   "cell_type": "code",
   "execution_count": 29,
   "id": "014d5b92",
   "metadata": {},
   "outputs": [
    {
     "name": "stdout",
     "output_type": "stream",
     "text": [
      "11349864\n"
     ]
    },
    {
     "data": {
      "text/html": [
       "<div>\n",
       "<style scoped>\n",
       "    .dataframe tbody tr th:only-of-type {\n",
       "        vertical-align: middle;\n",
       "    }\n",
       "\n",
       "    .dataframe tbody tr th {\n",
       "        vertical-align: top;\n",
       "    }\n",
       "\n",
       "    .dataframe thead th {\n",
       "        text-align: right;\n",
       "    }\n",
       "</style>\n",
       "<table border=\"1\" class=\"dataframe\">\n",
       "  <thead>\n",
       "    <tr style=\"text-align: right;\">\n",
       "      <th></th>\n",
       "      <th>r_min,</th>\n",
       "      <th>r_max,</th>\n",
       "      <th>r_mid</th>\n",
       "    </tr>\n",
       "  </thead>\n",
       "  <tbody>\n",
       "    <tr>\n",
       "      <th>0</th>\n",
       "      <td>0.047547</td>\n",
       "      <td>0.059858</td>\n",
       "      <td>0.053348</td>\n",
       "    </tr>\n",
       "    <tr>\n",
       "      <th>1</th>\n",
       "      <td>0.059858</td>\n",
       "      <td>0.075357</td>\n",
       "      <td>0.067162</td>\n",
       "    </tr>\n",
       "    <tr>\n",
       "      <th>2</th>\n",
       "      <td>0.075357</td>\n",
       "      <td>0.094868</td>\n",
       "      <td>0.084552</td>\n",
       "    </tr>\n",
       "    <tr>\n",
       "      <th>3</th>\n",
       "      <td>0.094868</td>\n",
       "      <td>0.119432</td>\n",
       "      <td>0.106444</td>\n",
       "    </tr>\n",
       "    <tr>\n",
       "      <th>4</th>\n",
       "      <td>0.119432</td>\n",
       "      <td>0.150356</td>\n",
       "      <td>0.134005</td>\n",
       "    </tr>\n",
       "  </tbody>\n",
       "</table>\n",
       "</div>"
      ],
      "text/plain": [
       "     r_min,    r_max,     r_mid\n",
       "0  0.047547  0.059858  0.053348\n",
       "1  0.059858  0.075357  0.067162\n",
       "2  0.075357  0.094868  0.084552\n",
       "3  0.094868  0.119432  0.106444\n",
       "4  0.119432  0.150356  0.134005"
      ]
     },
     "execution_count": 29,
     "metadata": {},
     "output_type": "execute_result"
    }
   ],
   "source": [
    "New_radial_bins_df = radial_bins_3d.append([radial_bins_3d]*(len(rho_final_new)-1), ignore_index=True)\n",
    "print(len(New_radial_bins_df))\n",
    "New_radial_bins_df.head()"
   ]
  },
  {
   "cell_type": "code",
   "execution_count": 30,
   "id": "01bdf5fe",
   "metadata": {},
   "outputs": [
    {
     "name": "stdout",
     "output_type": "stream",
     "text": [
      "25694442\n",
      "11349864\n"
     ]
    }
   ],
   "source": [
    "print(len(rho_z_final)*18)\n",
    "print(len(rho_final_new)*18)"
   ]
  },
  {
   "cell_type": "markdown",
   "id": "e3cc0a3a",
   "metadata": {},
   "source": [
    "Now for each row in the `rho_final_new` data set, we transpose it so that all the 20 density columns become just a single column."
   ]
  },
  {
   "cell_type": "code",
   "execution_count": 31,
   "id": "ae42bf1c",
   "metadata": {},
   "outputs": [
    {
     "data": {
      "text/html": [
       "<div>\n",
       "<style scoped>\n",
       "    .dataframe tbody tr th:only-of-type {\n",
       "        vertical-align: middle;\n",
       "    }\n",
       "\n",
       "    .dataframe tbody tr th {\n",
       "        vertical-align: top;\n",
       "    }\n",
       "\n",
       "    .dataframe thead th {\n",
       "        text-align: right;\n",
       "    }\n",
       "</style>\n",
       "<table border=\"1\" class=\"dataframe\">\n",
       "  <thead>\n",
       "    <tr style=\"text-align: right;\">\n",
       "      <th></th>\n",
       "      <th>Density</th>\n",
       "    </tr>\n",
       "  </thead>\n",
       "  <tbody>\n",
       "  </tbody>\n",
       "</table>\n",
       "</div>"
      ],
      "text/plain": [
       "Empty DataFrame\n",
       "Columns: [Density]\n",
       "Index: []"
      ]
     },
     "execution_count": 31,
     "metadata": {},
     "output_type": "execute_result"
    }
   ],
   "source": [
    "New_rho_z = pd.DataFrame(columns=['Density'])\n",
    "New_rho_z"
   ]
  },
  {
   "cell_type": "code",
   "execution_count": 32,
   "id": "93c02341",
   "metadata": {},
   "outputs": [],
   "source": [
    "for i in range(len(rho_final_new)):\n",
    "    New_rho_z = New_rho_z.append(pd.DataFrame(data = list(rho_final_new.iloc[i][1:]), columns = ['Density']))"
   ]
  },
  {
   "cell_type": "code",
   "execution_count": 33,
   "id": "3288c818",
   "metadata": {},
   "outputs": [
    {
     "name": "stdout",
     "output_type": "stream",
     "text": [
      "11349864\n"
     ]
    },
    {
     "data": {
      "text/html": [
       "<div>\n",
       "<style scoped>\n",
       "    .dataframe tbody tr th:only-of-type {\n",
       "        vertical-align: middle;\n",
       "    }\n",
       "\n",
       "    .dataframe tbody tr th {\n",
       "        vertical-align: top;\n",
       "    }\n",
       "\n",
       "    .dataframe thead th {\n",
       "        text-align: right;\n",
       "    }\n",
       "</style>\n",
       "<table border=\"1\" class=\"dataframe\">\n",
       "  <thead>\n",
       "    <tr style=\"text-align: right;\">\n",
       "      <th></th>\n",
       "      <th>index</th>\n",
       "      <th>Density</th>\n",
       "    </tr>\n",
       "  </thead>\n",
       "  <tbody>\n",
       "    <tr>\n",
       "      <th>0</th>\n",
       "      <td>0</td>\n",
       "      <td>1.812250e+15</td>\n",
       "    </tr>\n",
       "    <tr>\n",
       "      <th>1</th>\n",
       "      <td>1</td>\n",
       "      <td>1.998210e+15</td>\n",
       "    </tr>\n",
       "    <tr>\n",
       "      <th>2</th>\n",
       "      <td>2</td>\n",
       "      <td>1.183560e+15</td>\n",
       "    </tr>\n",
       "    <tr>\n",
       "      <th>3</th>\n",
       "      <td>3</td>\n",
       "      <td>4.562970e+14</td>\n",
       "    </tr>\n",
       "    <tr>\n",
       "      <th>4</th>\n",
       "      <td>4</td>\n",
       "      <td>4.802490e+14</td>\n",
       "    </tr>\n",
       "  </tbody>\n",
       "</table>\n",
       "</div>"
      ],
      "text/plain": [
       "   index       Density\n",
       "0      0  1.812250e+15\n",
       "1      1  1.998210e+15\n",
       "2      2  1.183560e+15\n",
       "3      3  4.562970e+14\n",
       "4      4  4.802490e+14"
      ]
     },
     "execution_count": 33,
     "metadata": {},
     "output_type": "execute_result"
    }
   ],
   "source": [
    "New_rho_z = New_rho_z.reset_index()\n",
    "print(len(New_rho_z))\n",
    "New_rho_z.head()"
   ]
  },
  {
   "cell_type": "code",
   "execution_count": 34,
   "id": "c32cc950",
   "metadata": {},
   "outputs": [],
   "source": [
    "New_rockstar_df1 = New_rockstar_df.drop(['index'], axis = 1)\n",
    "New_rho_z1 = New_rho_z.drop(['index'], axis = 1)"
   ]
  },
  {
   "cell_type": "code",
   "execution_count": null,
   "id": "708bb10a",
   "metadata": {},
   "outputs": [],
   "source": []
  },
  {
   "cell_type": "markdown",
   "id": "b93c117f",
   "metadata": {},
   "source": [
    "Now, we join the two data frames and then convert the densities and radial bins from comoving to physical units.\n",
    "\n",
    "Also, there are 181900 radial bins with zero densities. This constitutes about 1.6% of the data set. These radial bins are eliminated from the data. This means there are halos whose density will be calibrated using less than 18 radial bins.\n"
   ]
  },
  {
   "cell_type": "code",
   "execution_count": 35,
   "id": "49589d3c",
   "metadata": {},
   "outputs": [
    {
     "name": "stdout",
     "output_type": "stream",
     "text": [
      "id             0\n",
      "Mvir_Msun.h    0\n",
      "z_orig         0\n",
      "Rvir_Mpc.h     0\n",
      "pid            0\n",
      "rs             0\n",
      "PeakHeight     0\n",
      "Bin            0\n",
      "r_min,         0\n",
      "r_max,         0\n",
      "r_mid          0\n",
      "Density        0\n",
      "r_mid_phys     0\n",
      "dtype: int64\n",
      "Length of final data frame: 11167964\n"
     ]
    },
    {
     "data": {
      "text/html": [
       "<div>\n",
       "<style scoped>\n",
       "    .dataframe tbody tr th:only-of-type {\n",
       "        vertical-align: middle;\n",
       "    }\n",
       "\n",
       "    .dataframe tbody tr th {\n",
       "        vertical-align: top;\n",
       "    }\n",
       "\n",
       "    .dataframe thead th {\n",
       "        text-align: right;\n",
       "    }\n",
       "</style>\n",
       "<table border=\"1\" class=\"dataframe\">\n",
       "  <thead>\n",
       "    <tr style=\"text-align: right;\">\n",
       "      <th></th>\n",
       "      <th>id</th>\n",
       "      <th>Mvir_Msun.h</th>\n",
       "      <th>z_orig</th>\n",
       "      <th>Rvir_Mpc.h</th>\n",
       "      <th>pid</th>\n",
       "      <th>rs</th>\n",
       "      <th>PeakHeight</th>\n",
       "      <th>Bin</th>\n",
       "      <th>r_min,</th>\n",
       "      <th>r_max,</th>\n",
       "      <th>r_mid</th>\n",
       "      <th>Density</th>\n",
       "      <th>r_mid_phys</th>\n",
       "    </tr>\n",
       "  </thead>\n",
       "  <tbody>\n",
       "    <tr>\n",
       "      <th>0</th>\n",
       "      <td>28018334</td>\n",
       "      <td>6.513000e+13</td>\n",
       "      <td>0.56353</td>\n",
       "      <td>0.606208</td>\n",
       "      <td>-1</td>\n",
       "      <td>0.077629</td>\n",
       "      <td>2.221418</td>\n",
       "      <td>v4</td>\n",
       "      <td>0.047547</td>\n",
       "      <td>0.059858</td>\n",
       "      <td>0.053348</td>\n",
       "      <td>6.926866e+15</td>\n",
       "      <td>0.034120</td>\n",
       "    </tr>\n",
       "    <tr>\n",
       "      <th>1</th>\n",
       "      <td>28018334</td>\n",
       "      <td>6.513000e+13</td>\n",
       "      <td>0.56353</td>\n",
       "      <td>0.606208</td>\n",
       "      <td>-1</td>\n",
       "      <td>0.077629</td>\n",
       "      <td>2.221418</td>\n",
       "      <td>v4</td>\n",
       "      <td>0.059858</td>\n",
       "      <td>0.075357</td>\n",
       "      <td>0.067162</td>\n",
       "      <td>7.637651e+15</td>\n",
       "      <td>0.042955</td>\n",
       "    </tr>\n",
       "    <tr>\n",
       "      <th>2</th>\n",
       "      <td>28018334</td>\n",
       "      <td>6.513000e+13</td>\n",
       "      <td>0.56353</td>\n",
       "      <td>0.606208</td>\n",
       "      <td>-1</td>\n",
       "      <td>0.077629</td>\n",
       "      <td>2.221418</td>\n",
       "      <td>v4</td>\n",
       "      <td>0.075357</td>\n",
       "      <td>0.094868</td>\n",
       "      <td>0.084552</td>\n",
       "      <td>4.523858e+15</td>\n",
       "      <td>0.054077</td>\n",
       "    </tr>\n",
       "    <tr>\n",
       "      <th>3</th>\n",
       "      <td>28018334</td>\n",
       "      <td>6.513000e+13</td>\n",
       "      <td>0.56353</td>\n",
       "      <td>0.606208</td>\n",
       "      <td>-1</td>\n",
       "      <td>0.077629</td>\n",
       "      <td>2.221418</td>\n",
       "      <td>v4</td>\n",
       "      <td>0.094868</td>\n",
       "      <td>0.119432</td>\n",
       "      <td>0.106444</td>\n",
       "      <td>1.744079e+15</td>\n",
       "      <td>0.068079</td>\n",
       "    </tr>\n",
       "    <tr>\n",
       "      <th>4</th>\n",
       "      <td>28018334</td>\n",
       "      <td>6.513000e+13</td>\n",
       "      <td>0.56353</td>\n",
       "      <td>0.606208</td>\n",
       "      <td>-1</td>\n",
       "      <td>0.077629</td>\n",
       "      <td>2.221418</td>\n",
       "      <td>v4</td>\n",
       "      <td>0.119432</td>\n",
       "      <td>0.150356</td>\n",
       "      <td>0.134005</td>\n",
       "      <td>1.835630e+15</td>\n",
       "      <td>0.085707</td>\n",
       "    </tr>\n",
       "  </tbody>\n",
       "</table>\n",
       "</div>"
      ],
      "text/plain": [
       "         id   Mvir_Msun.h   z_orig  Rvir_Mpc.h pid        rs  PeakHeight Bin  \\\n",
       "0  28018334  6.513000e+13  0.56353    0.606208  -1  0.077629    2.221418  v4   \n",
       "1  28018334  6.513000e+13  0.56353    0.606208  -1  0.077629    2.221418  v4   \n",
       "2  28018334  6.513000e+13  0.56353    0.606208  -1  0.077629    2.221418  v4   \n",
       "3  28018334  6.513000e+13  0.56353    0.606208  -1  0.077629    2.221418  v4   \n",
       "4  28018334  6.513000e+13  0.56353    0.606208  -1  0.077629    2.221418  v4   \n",
       "\n",
       "     r_min,    r_max,     r_mid       Density  r_mid_phys  \n",
       "0  0.047547  0.059858  0.053348  6.926866e+15    0.034120  \n",
       "1  0.059858  0.075357  0.067162  7.637651e+15    0.042955  \n",
       "2  0.075357  0.094868  0.084552  4.523858e+15    0.054077  \n",
       "3  0.094868  0.119432  0.106444  1.744079e+15    0.068079  \n",
       "4  0.119432  0.150356  0.134005  1.835630e+15    0.085707  "
      ]
     },
     "execution_count": 35,
     "metadata": {},
     "output_type": "execute_result"
    }
   ],
   "source": [
    "Final_DF = New_rockstar_df1.join(New_radial_bins_df.join(New_rho_z1))\n",
    "Final_DF1 = pd.DataFrame(Final_DF)\n",
    "Final_DF1[\"Density\"] = Final_DF1[\"Density\"]*(1+Final_DF1[\"z_orig\"])**3 #rho_phys = rho_comov/a**3 = rho_comov*(1+z)**3\n",
    "Final_DF1[\"r_mid_phys\"] = Final_DF1[\"r_mid\"]/(1+Final_DF1[\"z_orig\"])\n",
    "Final_DF1 = Final_DF1[Final_DF1[\"Density\"] != 0] \n",
    "print((Final_DF1 == 0).sum(axis = 0))\n",
    "\n",
    "print(f'Length of final data frame: {len(Final_DF1)}')\n",
    "Final_DF1.head()"
   ]
  },
  {
   "cell_type": "code",
   "execution_count": null,
   "id": "e7fc8fe3",
   "metadata": {},
   "outputs": [],
   "source": []
  },
  {
   "cell_type": "markdown",
   "id": "694465b9",
   "metadata": {},
   "source": [
    "We take the log of some columns while also keeping the original values of other columns. They will all be needed separately at different points in our modeling process.\n"
   ]
  },
  {
   "cell_type": "code",
   "execution_count": 36,
   "id": "30a16a10",
   "metadata": {},
   "outputs": [
    {
     "data": {
      "text/html": [
       "<div>\n",
       "<style scoped>\n",
       "    .dataframe tbody tr th:only-of-type {\n",
       "        vertical-align: middle;\n",
       "    }\n",
       "\n",
       "    .dataframe tbody tr th {\n",
       "        vertical-align: top;\n",
       "    }\n",
       "\n",
       "    .dataframe thead th {\n",
       "        text-align: right;\n",
       "    }\n",
       "</style>\n",
       "<table border=\"1\" class=\"dataframe\">\n",
       "  <thead>\n",
       "    <tr style=\"text-align: right;\">\n",
       "      <th></th>\n",
       "      <th>PeakHeight</th>\n",
       "      <th>Density</th>\n",
       "      <th>rmid_Rvir</th>\n",
       "      <th>Mvir_Msun.h</th>\n",
       "      <th>Rvir_Mpc.h</th>\n",
       "      <th>r_mid</th>\n",
       "      <th>rs</th>\n",
       "      <th>z_orig</th>\n",
       "      <th>Density_orig</th>\n",
       "      <th>PeakHeight_orig</th>\n",
       "      <th>id</th>\n",
       "    </tr>\n",
       "  </thead>\n",
       "  <tbody>\n",
       "    <tr>\n",
       "      <th>0</th>\n",
       "      <td>0.798146</td>\n",
       "      <td>36.474184</td>\n",
       "      <td>-2.877325</td>\n",
       "      <td>6.513000e+13</td>\n",
       "      <td>0.606208</td>\n",
       "      <td>0.053348</td>\n",
       "      <td>0.077629</td>\n",
       "      <td>0.56353</td>\n",
       "      <td>6.926866e+15</td>\n",
       "      <td>2.221418</td>\n",
       "      <td>28018334</td>\n",
       "    </tr>\n",
       "    <tr>\n",
       "      <th>1</th>\n",
       "      <td>0.798146</td>\n",
       "      <td>36.571866</td>\n",
       "      <td>-2.647067</td>\n",
       "      <td>6.513000e+13</td>\n",
       "      <td>0.606208</td>\n",
       "      <td>0.067162</td>\n",
       "      <td>0.077629</td>\n",
       "      <td>0.56353</td>\n",
       "      <td>7.637651e+15</td>\n",
       "      <td>2.221418</td>\n",
       "      <td>28018334</td>\n",
       "    </tr>\n",
       "    <tr>\n",
       "      <th>2</th>\n",
       "      <td>0.798146</td>\n",
       "      <td>36.048141</td>\n",
       "      <td>-2.416808</td>\n",
       "      <td>6.513000e+13</td>\n",
       "      <td>0.606208</td>\n",
       "      <td>0.084552</td>\n",
       "      <td>0.077629</td>\n",
       "      <td>0.56353</td>\n",
       "      <td>4.523858e+15</td>\n",
       "      <td>2.221418</td>\n",
       "      <td>28018334</td>\n",
       "    </tr>\n",
       "    <tr>\n",
       "      <th>3</th>\n",
       "      <td>0.798146</td>\n",
       "      <td>35.095003</td>\n",
       "      <td>-2.186550</td>\n",
       "      <td>6.513000e+13</td>\n",
       "      <td>0.606208</td>\n",
       "      <td>0.106444</td>\n",
       "      <td>0.077629</td>\n",
       "      <td>0.56353</td>\n",
       "      <td>1.744079e+15</td>\n",
       "      <td>2.221418</td>\n",
       "      <td>28018334</td>\n",
       "    </tr>\n",
       "    <tr>\n",
       "      <th>4</th>\n",
       "      <td>0.798146</td>\n",
       "      <td>35.146164</td>\n",
       "      <td>-1.956292</td>\n",
       "      <td>6.513000e+13</td>\n",
       "      <td>0.606208</td>\n",
       "      <td>0.134005</td>\n",
       "      <td>0.077629</td>\n",
       "      <td>0.56353</td>\n",
       "      <td>1.835630e+15</td>\n",
       "      <td>2.221418</td>\n",
       "      <td>28018334</td>\n",
       "    </tr>\n",
       "  </tbody>\n",
       "</table>\n",
       "</div>"
      ],
      "text/plain": [
       "   PeakHeight    Density  rmid_Rvir   Mvir_Msun.h  Rvir_Mpc.h     r_mid  \\\n",
       "0    0.798146  36.474184  -2.877325  6.513000e+13    0.606208  0.053348   \n",
       "1    0.798146  36.571866  -2.647067  6.513000e+13    0.606208  0.067162   \n",
       "2    0.798146  36.048141  -2.416808  6.513000e+13    0.606208  0.084552   \n",
       "3    0.798146  35.095003  -2.186550  6.513000e+13    0.606208  0.106444   \n",
       "4    0.798146  35.146164  -1.956292  6.513000e+13    0.606208  0.134005   \n",
       "\n",
       "         rs   z_orig  Density_orig  PeakHeight_orig        id  \n",
       "0  0.077629  0.56353  6.926866e+15         2.221418  28018334  \n",
       "1  0.077629  0.56353  7.637651e+15         2.221418  28018334  \n",
       "2  0.077629  0.56353  4.523858e+15         2.221418  28018334  \n",
       "3  0.077629  0.56353  1.744079e+15         2.221418  28018334  \n",
       "4  0.077629  0.56353  1.835630e+15         2.221418  28018334  "
      ]
     },
     "execution_count": 36,
     "metadata": {},
     "output_type": "execute_result"
    }
   ],
   "source": [
    "Final_DF_Log = Final_DF1[[\"PeakHeight\", \"Density\"]]\n",
    "Final_DF_Log = pd.DataFrame(Final_DF_Log)\n",
    "\n",
    "Final_DF_Log[\"rmid_Rvir\"] = Final_DF1[\"r_mid_phys\"].div(Final_DF1[\"Rvir_Mpc.h\"])\n",
    "\n",
    "Final_DF_Log = np.log(Final_DF_Log)\n",
    "Final_DF_Log[\"Mvir_Msun.h\"] = Final_DF1[\"Mvir_Msun.h\"]\n",
    "Final_DF_Log[\"Rvir_Mpc.h\"] = Final_DF1[\"Rvir_Mpc.h\"]\n",
    "Final_DF_Log[\"r_mid\"] = Final_DF1[\"r_mid\"]\n",
    "Final_DF_Log[\"rs\"] = Final_DF1[\"rs\"]\n",
    "Final_DF_Log[\"z_orig\"] = Final_DF1[\"z_orig\"]\n",
    "Final_DF_Log[\"Density_orig\"] = Final_DF1[\"Density\"]\n",
    "Final_DF_Log[\"PeakHeight_orig\"] = Final_DF1[\"PeakHeight\"]\n",
    "Final_DF_Log[\"r_mid_phys\"] = Final_DF1[\"r_mid_phys\"]\n",
    "Final_DF_Log[\"id\"] = Final_DF1[\"id\"]\n",
    "Final_DF_Log.head()"
   ]
  },
  {
   "cell_type": "code",
   "execution_count": 37,
   "id": "e89ef05b",
   "metadata": {},
   "outputs": [
    {
     "name": "stdout",
     "output_type": "stream",
     "text": [
      "False\n",
      "\n",
      "PeakHeight         0\n",
      "Density            0\n",
      "rmid_Rvir          0\n",
      "Mvir_Msun.h        0\n",
      "Rvir_Mpc.h         0\n",
      "r_mid              0\n",
      "rs                 0\n",
      "z_orig             0\n",
      "Density_orig       0\n",
      "PeakHeight_orig    0\n",
      "id                 0\n",
      "dtype: int64\n"
     ]
    }
   ],
   "source": [
    "# Checking for Missing Values\n",
    "print(Final_DF_Log[['Density']].isnull().values.any())\n",
    "print()\n",
    "print(Final_DF_Log.isnull().sum())"
   ]
  },
  {
   "cell_type": "markdown",
   "id": "496d68bb",
   "metadata": {},
   "source": [
    "We then convert the final data frame to a `.csv` file. Note that saving it in `.csv` format is actually not the only approach. For instance, we could save the data as a `.npy` file, which is usually twice smaller than the `.csv` format. However, `.csv` is more familiar to many people.\n"
   ]
  },
  {
   "cell_type": "code",
   "execution_count": 38,
   "id": "136ebcf3",
   "metadata": {},
   "outputs": [],
   "source": [
    "Final_DF_Log.to_csv(\"Data/Data_PH.csv\", index=False)\n",
    "radial_bins_3d.to_csv(\"Data/radial_bins.csv\", index=False)\n",
    "rockstar_final_new.to_csv(\"Data/Rockstar_PH.csv\", index=False)\n",
    "# len(Final_DF_Log)"
   ]
  },
  {
   "cell_type": "markdown",
   "id": "a8c9b6b5",
   "metadata": {},
   "source": [
    "## Comparing standard deviations\n",
    "### Peak height\n",
    "\n",
    "We performed a t-test to check whether the mean and variances of the data set remain data same across the various peak height bins.\n"
   ]
  },
  {
   "cell_type": "code",
   "execution_count": 39,
   "id": "2291d9a3",
   "metadata": {},
   "outputs": [
    {
     "data": {
      "text/html": [
       "<div>\n",
       "<style scoped>\n",
       "    .dataframe tbody tr th:only-of-type {\n",
       "        vertical-align: middle;\n",
       "    }\n",
       "\n",
       "    .dataframe tbody tr th {\n",
       "        vertical-align: top;\n",
       "    }\n",
       "\n",
       "    .dataframe thead th {\n",
       "        text-align: right;\n",
       "    }\n",
       "</style>\n",
       "<table border=\"1\" class=\"dataframe\">\n",
       "  <thead>\n",
       "    <tr style=\"text-align: right;\">\n",
       "      <th></th>\n",
       "      <th>Bin_Std</th>\n",
       "      <th>Samp_Bin_Std</th>\n",
       "    </tr>\n",
       "  </thead>\n",
       "  <tbody>\n",
       "    <tr>\n",
       "      <th>0</th>\n",
       "      <td>0.052320</td>\n",
       "      <td>0.052320</td>\n",
       "    </tr>\n",
       "    <tr>\n",
       "      <th>1</th>\n",
       "      <td>0.066728</td>\n",
       "      <td>0.066687</td>\n",
       "    </tr>\n",
       "    <tr>\n",
       "      <th>2</th>\n",
       "      <td>0.070240</td>\n",
       "      <td>0.070295</td>\n",
       "    </tr>\n",
       "    <tr>\n",
       "      <th>3</th>\n",
       "      <td>0.255311</td>\n",
       "      <td>0.255733</td>\n",
       "    </tr>\n",
       "  </tbody>\n",
       "</table>\n",
       "</div>"
      ],
      "text/plain": [
       "    Bin_Std  Samp_Bin_Std\n",
       "0  0.052320      0.052320\n",
       "1  0.066728      0.066687\n",
       "2  0.070240      0.070295\n",
       "3  0.255311      0.255733"
      ]
     },
     "execution_count": 39,
     "metadata": {},
     "output_type": "execute_result"
    }
   ],
   "source": [
    "stds = {'Bin_Std': [np.std(v1[\"PeakHeight\"]), np.std(v2[\"PeakHeight\"]), \n",
    "               np.std(v3[\"PeakHeight\"]), np.std(v4[\"PeakHeight\"])\n",
    "                   ], \n",
    "        'Samp_Bin_Std': [np.std(frac_v1[\"PeakHeight\"]), np.std(frac_v2[\"PeakHeight\"]), \n",
    "                  np.std(frac_v3[\"PeakHeight\"]), np.std(frac_v4[\"PeakHeight\"])\n",
    "                      ]}\n",
    "stds_df = pd.DataFrame(data=stds)\n",
    "stds_df"
   ]
  },
  {
   "cell_type": "code",
   "execution_count": 40,
   "id": "e3c6e4d0",
   "metadata": {},
   "outputs": [
    {
     "data": {
      "text/plain": [
       "Ttest_relResult(statistic=-1.0270512758184778, pvalue=0.3799672033372781)"
      ]
     },
     "execution_count": 40,
     "metadata": {},
     "output_type": "execute_result"
    }
   ],
   "source": [
    "sts.ttest_rel(stds_df[\"Bin_Std\"], stds_df[\"Samp_Bin_Std\"])"
   ]
  },
  {
   "cell_type": "code",
   "execution_count": null,
   "id": "286a151c",
   "metadata": {},
   "outputs": [],
   "source": []
  },
  {
   "cell_type": "code",
   "execution_count": 41,
   "id": "308a3c45",
   "metadata": {},
   "outputs": [
    {
     "data": {
      "text/html": [
       "<div>\n",
       "<style scoped>\n",
       "    .dataframe tbody tr th:only-of-type {\n",
       "        vertical-align: middle;\n",
       "    }\n",
       "\n",
       "    .dataframe tbody tr th {\n",
       "        vertical-align: top;\n",
       "    }\n",
       "\n",
       "    .dataframe thead th {\n",
       "        text-align: right;\n",
       "    }\n",
       "</style>\n",
       "<table border=\"1\" class=\"dataframe\">\n",
       "  <thead>\n",
       "    <tr style=\"text-align: right;\">\n",
       "      <th></th>\n",
       "      <th>Bin_avg</th>\n",
       "      <th>Samp_Bin_avg</th>\n",
       "    </tr>\n",
       "  </thead>\n",
       "  <tbody>\n",
       "    <tr>\n",
       "      <th>0</th>\n",
       "      <td>1.428594</td>\n",
       "      <td>1.428594</td>\n",
       "    </tr>\n",
       "    <tr>\n",
       "      <th>1</th>\n",
       "      <td>1.631052</td>\n",
       "      <td>1.631225</td>\n",
       "    </tr>\n",
       "    <tr>\n",
       "      <th>2</th>\n",
       "      <td>1.853210</td>\n",
       "      <td>1.853436</td>\n",
       "    </tr>\n",
       "    <tr>\n",
       "      <th>3</th>\n",
       "      <td>2.255690</td>\n",
       "      <td>2.255846</td>\n",
       "    </tr>\n",
       "  </tbody>\n",
       "</table>\n",
       "</div>"
      ],
      "text/plain": [
       "    Bin_avg  Samp_Bin_avg\n",
       "0  1.428594      1.428594\n",
       "1  1.631052      1.631225\n",
       "2  1.853210      1.853436\n",
       "3  2.255690      2.255846"
      ]
     },
     "execution_count": 41,
     "metadata": {},
     "output_type": "execute_result"
    }
   ],
   "source": [
    "avgs = {'Bin_avg': [np.mean(v1[\"PeakHeight\"]), np.mean(v2[\"PeakHeight\"]), \n",
    "               np.mean(v3[\"PeakHeight\"]), np.mean(v4[\"PeakHeight\"])\n",
    "                   ], \n",
    "        'Samp_Bin_avg': [np.mean(frac_v1[\"PeakHeight\"]), np.mean(frac_v2[\"PeakHeight\"]), \n",
    "                  np.mean(frac_v3[\"PeakHeight\"]), np.mean(frac_v4[\"PeakHeight\"])\n",
    "                      ]}\n",
    "avgs_df = pd.DataFrame(data=avgs)\n",
    "avgs_df"
   ]
  },
  {
   "cell_type": "code",
   "execution_count": 42,
   "id": "80f08851",
   "metadata": {},
   "outputs": [
    {
     "data": {
      "text/plain": [
       "Ttest_relResult(statistic=-2.854447122158125, pvalue=0.06487174344209488)"
      ]
     },
     "execution_count": 42,
     "metadata": {},
     "output_type": "execute_result"
    }
   ],
   "source": [
    "sts.ttest_rel(avgs_df[\"Bin_avg\"], avgs_df[\"Samp_Bin_avg\"])"
   ]
  },
  {
   "cell_type": "code",
   "execution_count": null,
   "id": "1bd9db70",
   "metadata": {},
   "outputs": [],
   "source": []
  },
  {
   "cell_type": "code",
   "execution_count": 43,
   "id": "8ebf1661",
   "metadata": {},
   "outputs": [
    {
     "name": "stdout",
     "output_type": "stream",
     "text": [
      "Ttest_1sampResult(statistic=0.0, pvalue=1.0)\n",
      "Ttest_1sampResult(statistic=1.0290526511899376, pvalue=0.30345651307550336)\n",
      "Ttest_1sampResult(statistic=1.2770026975925728, pvalue=0.20160317586345797)\n",
      "Ttest_1sampResult(statistic=0.24204483230387983, pvalue=0.8087457395394353)\n"
     ]
    }
   ],
   "source": [
    "print(sts.ttest_1samp(a = frac_v1[\"PeakHeight\"], \n",
    "                      popmean = np.mean(v1[\"PeakHeight\"]), \n",
    "                      alternative='two-sided'))\n",
    "\n",
    "print(sts.ttest_1samp(a = frac_v2[\"PeakHeight\"], \n",
    "                      popmean = np.mean(v2[\"PeakHeight\"]), \n",
    "                      alternative='two-sided'))\n",
    "\n",
    "print(sts.ttest_1samp(a = frac_v3[\"PeakHeight\"], \n",
    "                      popmean = np.mean(v3[\"PeakHeight\"]), \n",
    "                      alternative='two-sided'))\n",
    "\n",
    "print(sts.ttest_1samp(a = frac_v4[\"PeakHeight\"], \n",
    "                      popmean = np.mean(v4[\"PeakHeight\"]), \n",
    "                      alternative='two-sided'))"
   ]
  },
  {
   "cell_type": "markdown",
   "id": "423d7422",
   "metadata": {},
   "source": [
    "#### DENSITY"
   ]
  },
  {
   "cell_type": "code",
   "execution_count": 44,
   "id": "4d6a0190",
   "metadata": {},
   "outputs": [
    {
     "data": {
      "text/html": [
       "<div>\n",
       "<style scoped>\n",
       "    .dataframe tbody tr th:only-of-type {\n",
       "        vertical-align: middle;\n",
       "    }\n",
       "\n",
       "    .dataframe tbody tr th {\n",
       "        vertical-align: top;\n",
       "    }\n",
       "\n",
       "    .dataframe thead th {\n",
       "        text-align: right;\n",
       "    }\n",
       "</style>\n",
       "<table border=\"1\" class=\"dataframe\">\n",
       "  <thead>\n",
       "    <tr style=\"text-align: right;\">\n",
       "      <th></th>\n",
       "      <th>id</th>\n",
       "      <th>Mvir_Msun.h</th>\n",
       "      <th>z_orig</th>\n",
       "      <th>Rvir_Mpc.h</th>\n",
       "      <th>pid</th>\n",
       "      <th>rs</th>\n",
       "      <th>PeakHeight</th>\n",
       "    </tr>\n",
       "    <tr>\n",
       "      <th>Bin_Orig</th>\n",
       "      <th></th>\n",
       "      <th></th>\n",
       "      <th></th>\n",
       "      <th></th>\n",
       "      <th></th>\n",
       "      <th></th>\n",
       "      <th></th>\n",
       "    </tr>\n",
       "  </thead>\n",
       "  <tbody>\n",
       "    <tr>\n",
       "      <th>v1</th>\n",
       "      <td>157637</td>\n",
       "      <td>157637</td>\n",
       "      <td>157637</td>\n",
       "      <td>157637</td>\n",
       "      <td>157637</td>\n",
       "      <td>157637</td>\n",
       "      <td>157637</td>\n",
       "    </tr>\n",
       "    <tr>\n",
       "      <th>v2</th>\n",
       "      <td>705413</td>\n",
       "      <td>705413</td>\n",
       "      <td>705413</td>\n",
       "      <td>705413</td>\n",
       "      <td>705413</td>\n",
       "      <td>705413</td>\n",
       "      <td>705413</td>\n",
       "    </tr>\n",
       "    <tr>\n",
       "      <th>v3</th>\n",
       "      <td>358584</td>\n",
       "      <td>358584</td>\n",
       "      <td>358584</td>\n",
       "      <td>358584</td>\n",
       "      <td>358584</td>\n",
       "      <td>358584</td>\n",
       "      <td>358584</td>\n",
       "    </tr>\n",
       "    <tr>\n",
       "      <th>v4</th>\n",
       "      <td>205835</td>\n",
       "      <td>205835</td>\n",
       "      <td>205835</td>\n",
       "      <td>205835</td>\n",
       "      <td>205835</td>\n",
       "      <td>205835</td>\n",
       "      <td>205835</td>\n",
       "    </tr>\n",
       "  </tbody>\n",
       "</table>\n",
       "</div>"
      ],
      "text/plain": [
       "              id  Mvir_Msun.h  z_orig  Rvir_Mpc.h     pid      rs  PeakHeight\n",
       "Bin_Orig                                                                     \n",
       "v1        157637       157637  157637      157637  157637  157637      157637\n",
       "v2        705413       705413  705413      705413  705413  705413      705413\n",
       "v3        358584       358584  358584      358584  358584  358584      358584\n",
       "v4        205835       205835  205835      205835  205835  205835      205835"
      ]
     },
     "execution_count": 44,
     "metadata": {},
     "output_type": "execute_result"
    }
   ],
   "source": [
    "rockstar_bin = pd.DataFrame(rockstar_final)\n",
    "\n",
    "rockstar_bin[\"Bin_Orig\"] = \"v4\"\n",
    "\n",
    "rockstar_bin.loc[rockstar_bin[\"PeakHeight\"] <= 2.0, \n",
    "                        \"Bin_Orig\"] = \"v3\"\n",
    "\n",
    "rockstar_bin.loc[rockstar_bin[\"PeakHeight\"] <= 1.75, \n",
    "                        \"Bin_Orig\"] = \"v2\"\n",
    "\n",
    "rockstar_bin.loc[rockstar_bin[\"PeakHeight\"] <= 1.5, \n",
    "                        \"Bin_Orig\"] = \"v1\"\n",
    "\n",
    "rockstar_bin.groupby([\"Bin_Orig\"]).count()"
   ]
  },
  {
   "cell_type": "code",
   "execution_count": null,
   "id": "db2cc5f2",
   "metadata": {},
   "outputs": [],
   "source": []
  }
 ],
 "metadata": {
  "kernelspec": {
   "display_name": "Python 3 (ipykernel)",
   "language": "python",
   "name": "python3"
  },
  "language_info": {
   "codemirror_mode": {
    "name": "ipython",
    "version": 3
   },
   "file_extension": ".py",
   "mimetype": "text/x-python",
   "name": "python",
   "nbconvert_exporter": "python",
   "pygments_lexer": "ipython3",
   "version": "3.9.7"
  }
 },
 "nbformat": 4,
 "nbformat_minor": 5
}
